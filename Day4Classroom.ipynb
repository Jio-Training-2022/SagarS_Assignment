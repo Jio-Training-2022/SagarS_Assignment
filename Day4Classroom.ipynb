{
  "nbformat": 4,
  "nbformat_minor": 0,
  "metadata": {
    "colab": {
      "provenance": []
    },
    "kernelspec": {
      "name": "python3",
      "display_name": "Python 3"
    },
    "language_info": {
      "name": "python"
    }
  },
  "cells": [
    {
      "cell_type": "code",
      "source": [
        "import tempfile\n",
        "list=[]\n",
        "largest=0\n",
        "secondlargest=0\n",
        "large=[]\n",
        "\n",
        "N=int(input(\"Enter the length of elements in the list:\"))\n",
        "for i in range(0,N):\n",
        "  list.append(int(input(\"Enter a number \")))\n",
        "print(\"Elements in your list are: {} \".format(list))\n",
        "for i in range(0,len(list)):\n",
        "     if list[i]>largest:\n",
        "        largest=list[i]\n",
        "        if(list[i]>list[-1]):\n",
        "          temp=list[-1]\n",
        "          list[-1]=largest\n",
        "          list[i]=temp\n",
        "for i in range(0,len(list)-1):         \n",
        "     if list[i]>secondlargest:\n",
        "        secondlargest=list[i]\n",
        "        if(list[i]>list[-2]):\n",
        "          temp=list[-2]\n",
        "          list[-1]=secondlargest\n",
        "          list[i]=temp\n",
        "print(secondlargest)\n"
      ],
      "metadata": {
        "colab": {
          "base_uri": "https://localhost:8080/"
        },
        "id": "H6FjxNA_Vm8Q",
        "outputId": "0ef2f43f-bcf6-4088-9446-a0a2a8fbe563"
      },
      "execution_count": 112,
      "outputs": [
        {
          "output_type": "stream",
          "name": "stdout",
          "text": [
            "Enter the length of elements in the list:3\n",
            "Enter a number 40\n",
            "Enter a number 30\n",
            "Enter a number 20\n",
            "Elements in your list are: [40, 30, 20] \n",
            "30\n"
          ]
        },
        {
          "output_type": "execute_result",
          "data": {
            "text/plain": [
              "2"
            ]
          },
          "metadata": {},
          "execution_count": 112
        }
      ]
    },
    {
      "cell_type": "code",
      "source": [
        "largest=list[j]\n",
        "        list[i]=temp\n",
        "        list[i]=list[j]\n",
        "        list[j]=temp"
      ],
      "metadata": {
        "id": "dTlEdFNt1HPR"
      },
      "execution_count": null,
      "outputs": []
    },
    {
      "cell_type": "code",
      "execution_count": 7,
      "metadata": {
        "colab": {
          "base_uri": "https://localhost:8080/"
        },
        "id": "9zcY1jUKKFj2",
        "outputId": "67011f4b-8547-4680-fb51-cb227b801a3d"
      },
      "outputs": [
        {
          "output_type": "stream",
          "name": "stdout",
          "text": [
            "Enter a value for N 5\n",
            "Enter a number 1\n",
            "Enter a number 2\n",
            "Enter a number 3\n",
            "Enter a number 4\n",
            "Enter a number 5\n",
            "Odd Numbers were [1, 3, 5]\n",
            "Even Numbers were [2, 4]\n"
          ]
        }
      ],
      "source": [
        "list=[]\n",
        "odd=[]\n",
        "even=[]\n",
        "oe=int(input(\"Enter a value for N \"))\n",
        "for i in range(0,oe):\n",
        "  list.append(int(input(\"Enter a number \")))\n",
        "  if(list[i]%2==0):\n",
        "    even.append(list[i])\n",
        "  else:\n",
        "    odd.append(list[i])\n",
        "print(\"Odd Numbers were {}\".format(odd))\n",
        "print(\"Even Numbers were {}\".format(even))  \n"
      ]
    },
    {
      "cell_type": "code",
      "source": [
        "numb=int(input(\"Enter a Number: \"))\n",
        "act=numb\n",
        "num=len(str(numb))\n",
        "list=[]\n",
        "sum=0\n",
        "while(num!=1):\n",
        "  mod=act%10\n",
        "  list.append(mod)\n",
        "  act=int(act/10)\n",
        "  num=act  \n",
        "  num=str(num)\n",
        "  num=len(num)\n",
        "  if(num==1):\n",
        "    list.append(act)\n",
        "for i in list:\n",
        "  sum+=i\n",
        "print(\"Sum of Digits of the {} is {} \".format(numb,sum))\n"
      ],
      "metadata": {
        "colab": {
          "base_uri": "https://localhost:8080/"
        },
        "id": "BXHroR0yNeFd",
        "outputId": "2efb2b9a-de32-4e2b-a3ee-cc182ef22b1f"
      },
      "execution_count": 53,
      "outputs": [
        {
          "output_type": "stream",
          "name": "stdout",
          "text": [
            "Enter a Number: 54321\n",
            "Sum of Digits of the 54321 is 15 \n"
          ]
        }
      ]
    }
  ]
}