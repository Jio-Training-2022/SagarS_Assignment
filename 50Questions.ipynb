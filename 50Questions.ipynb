{
  "nbformat": 4,
  "nbformat_minor": 0,
  "metadata": {
    "colab": {
      "provenance": []
    },
    "kernelspec": {
      "name": "python3",
      "display_name": "Python 3"
    },
    "language_info": {
      "name": "python"
    }
  },
  "cells": [
    {
      "cell_type": "markdown",
      "source": [
        "5.A dict contains events and corresponding dates, given a date, find out what events have occurred and what are still pending."
      ],
      "metadata": {
        "id": "n2yF39rA_WAB"
      }
    },
    {
      "cell_type": "code",
      "source": [
        "from datetime import date\n",
        "l=[]\n",
        "m=[]\n",
        "dict={\"2022-07-14\":\"JioInstitute-Opening\",\"2022-09-06\":\"Moving to Hostel\",\"2022-10-06\":\"End of First Quarter\",\"2022-12-31\":\"End of Second Quarter\",\"2023-03-31\":\"End of Third Quarter\",\"2023-06-18\":\"Graduation Day for FirstBatch\" }\n",
        "today=date.today()\n",
        "for i in dict.items():\n",
        "  j=date.fromisoformat(i[0])\n",
        "  if(today>j):\n",
        "    l.append(i[1])\n",
        "  else:\n",
        "    m.append(i[1])  \n",
        "print(\"Future Events are: {}\".format(m))\n",
        "print(\"Past Events are: {}\".format(l))\n"
      ],
      "metadata": {
        "colab": {
          "base_uri": "https://localhost:8080/"
        },
        "id": "mhoOXubxUbSH",
        "outputId": "cd07b3d7-f2e5-4ea1-87c4-3a6582b970f3"
      },
      "execution_count": null,
      "outputs": [
        {
          "output_type": "stream",
          "name": "stdout",
          "text": [
            "Future Events are: ['End of First Quarter', 'End of Second Quarter', 'End of Third Quarter', 'Graduation Day for FirstBatch']\n",
            "Past Events are: ['JioInstitute-Opening', 'Moving to Hostel']\n"
          ]
        }
      ]
    },
    {
      "cell_type": "markdown",
      "source": [
        "1.Days to go for a particular date in future."
      ],
      "metadata": {
        "id": "A_qtFWJ5_CC0"
      }
    },
    {
      "cell_type": "code",
      "execution_count": null,
      "metadata": {
        "colab": {
          "base_uri": "https://localhost:8080/"
        },
        "id": "7XBsWgxJ2IDu",
        "outputId": "8026fb21-248d-4ef8-b324-53f7dd8272d8"
      },
      "outputs": [
        {
          "output_type": "stream",
          "name": "stdout",
          "text": [
            "Enter a Date in yyyy-mm-dd: 2022-10-01\n",
            "2 Days from the current day.\n"
          ]
        }
      ],
      "source": [
        "from datetime import date\n",
        "fdt=input(\"Enter a Date in yyyy-mm-dd: \")\n",
        "fdt=date.fromisoformat(fdt)\n",
        "pdt=date.today()\n",
        "ad=fdt-pdt\n",
        "print(\"{} Days from the current day.\".format(ad.days))\n"
      ]
    },
    {
      "cell_type": "markdown",
      "source": [
        "3.Marks of a student are given in a file, calculate the average marks."
      ],
      "metadata": {
        "id": "qrrA8nqe_egN"
      }
    },
    {
      "cell_type": "code",
      "source": [
        "f=open(\"Marks.txt\",\"r\")\n",
        "g=f.readlines()\n",
        "num1=0\n",
        "num2=0\n",
        "for i in g:\n",
        "  num=int(i)\n",
        "  num1+=num\n",
        "  num2+=1\n",
        "  avg=num1/num2\n",
        "print(avg)\n",
        "\n"
      ],
      "metadata": {
        "colab": {
          "base_uri": "https://localhost:8080/"
        },
        "id": "4xyykhaW7NOA",
        "outputId": "f1222479-43e0-428a-fc8b-309a6d66d374"
      },
      "execution_count": null,
      "outputs": [
        {
          "output_type": "stream",
          "name": "stdout",
          "text": [
            "95.0\n"
          ]
        }
      ]
    },
    {
      "cell_type": "markdown",
      "source": [
        "4.Names are given in a file, check whether a particular name is present."
      ],
      "metadata": {
        "id": "alxlPlgV_oK9"
      }
    },
    {
      "cell_type": "code",
      "source": [
        "nchk=input(\"Enter a name to Check: \")\n",
        "f=open(\"Names.txt\",\"r\")\n",
        "g=f.readlines()\n",
        "cnt=0\n",
        "for i in range(0,len(g)):\n",
        "  if g[i].strip()==nchk:\n",
        "    cnt=1\n",
        "    print(\"{}, is Present\".format(nchk))\n",
        "if(cnt==0):\n",
        "  print(\"{}, is Not Present\".format(nchk))\n",
        "  "
      ],
      "metadata": {
        "colab": {
          "base_uri": "https://localhost:8080/"
        },
        "id": "GdKcVWeR-si3",
        "outputId": "a7a08d48-2513-4bfd-9c46-21596e397d68"
      },
      "execution_count": null,
      "outputs": [
        {
          "output_type": "stream",
          "name": "stdout",
          "text": [
            "Enter a name to Check: Class\n",
            "Class, is Not Present\n"
          ]
        }
      ]
    },
    {
      "cell_type": "markdown",
      "source": [
        "6.Given a file with numbers , calculate mean, median and mode."
      ],
      "metadata": {
        "id": "52s70PbM_ur2"
      }
    },
    {
      "cell_type": "code",
      "source": [
        "import statistics as st\n",
        "f=open(\"Marks.txt\",\"r\")\n",
        "g=f.readlines()\n",
        "li=[]\n",
        "for i in g:\n",
        "  li.append(int(i))\n",
        "mean1=st.mean(li)\n",
        "median1=st.median(li)\n",
        "mode1=st.mode(li)\n",
        "a=li.count(mode1)\n",
        "print(\"Mean is {}, Median is {}, Mode is ({},{})\".format(mean1,median1,mode1,a))\n"
      ],
      "metadata": {
        "colab": {
          "base_uri": "https://localhost:8080/"
        },
        "id": "ldcQzrukCUR7",
        "outputId": "c979fa7d-fa53-4fdf-88f9-265e2c1a2c66"
      },
      "execution_count": null,
      "outputs": [
        {
          "output_type": "stream",
          "name": "stdout",
          "text": [
            "Mean is 93, Median is 91.5, Mode is (90,5)\n"
          ]
        }
      ]
    },
    {
      "cell_type": "markdown",
      "source": [
        "8.Take user input and write it to a file."
      ],
      "metadata": {
        "id": "NBtP2fwD_5ec"
      }
    },
    {
      "cell_type": "code",
      "source": [
        "txt=input(\"Enter a text \")\n",
        "f=open(\"userinput.txt\",\"a\")\n",
        "f.write(txt)\n",
        "f.truncate()\n",
        "f.close()\n",
        "g=open(\"userinput.txt\",\"r\")\n",
        "g.read()\n"
      ],
      "metadata": {
        "colab": {
          "base_uri": "https://localhost:8080/",
          "height": 53
        },
        "id": "UQQ1Xe0DI8EZ",
        "outputId": "c3499120-8cc7-42e1-a233-534eaca3005c"
      },
      "execution_count": null,
      "outputs": [
        {
          "name": "stdout",
          "output_type": "stream",
          "text": [
            "Enter a texthello\n"
          ]
        },
        {
          "output_type": "execute_result",
          "data": {
            "text/plain": [
              "'hello'"
            ],
            "application/vnd.google.colaboratory.intrinsic+json": {
              "type": "string"
            }
          },
          "metadata": {},
          "execution_count": 110
        }
      ]
    },
    {
      "cell_type": "markdown",
      "source": [
        "7.Given a file with strings, calculate the permutations"
      ],
      "metadata": {
        "id": "8dI0cXeN_93r"
      }
    },
    {
      "cell_type": "code",
      "source": [
        "import itertools\n",
        "l=[]\n",
        "f=open(\"Names.txt\",\"r\")\n",
        "g=f.readlines()\n",
        "for i in g:\n",
        "  l.append(i.replace(\"\\n\",''))\n",
        "b=itertools.permutations(l)\n",
        "for i in b:\n",
        "    print(i)\n",
        "\n"
      ],
      "metadata": {
        "colab": {
          "base_uri": "https://localhost:8080/"
        },
        "id": "qSbwRLDYPzQL",
        "outputId": "c1f378b9-ffde-4954-8963-a748c3eb69d1"
      },
      "execution_count": null,
      "outputs": [
        {
          "output_type": "stream",
          "name": "stdout",
          "text": [
            "('Sagar', 'Rahul', 'Radha', 'Krishna')\n",
            "('Sagar', 'Rahul', 'Krishna', 'Radha')\n",
            "('Sagar', 'Radha', 'Rahul', 'Krishna')\n",
            "('Sagar', 'Radha', 'Krishna', 'Rahul')\n",
            "('Sagar', 'Krishna', 'Rahul', 'Radha')\n",
            "('Sagar', 'Krishna', 'Radha', 'Rahul')\n",
            "('Rahul', 'Sagar', 'Radha', 'Krishna')\n",
            "('Rahul', 'Sagar', 'Krishna', 'Radha')\n",
            "('Rahul', 'Radha', 'Sagar', 'Krishna')\n",
            "('Rahul', 'Radha', 'Krishna', 'Sagar')\n",
            "('Rahul', 'Krishna', 'Sagar', 'Radha')\n",
            "('Rahul', 'Krishna', 'Radha', 'Sagar')\n",
            "('Radha', 'Sagar', 'Rahul', 'Krishna')\n",
            "('Radha', 'Sagar', 'Krishna', 'Rahul')\n",
            "('Radha', 'Rahul', 'Sagar', 'Krishna')\n",
            "('Radha', 'Rahul', 'Krishna', 'Sagar')\n",
            "('Radha', 'Krishna', 'Sagar', 'Rahul')\n",
            "('Radha', 'Krishna', 'Rahul', 'Sagar')\n",
            "('Krishna', 'Sagar', 'Rahul', 'Radha')\n",
            "('Krishna', 'Sagar', 'Radha', 'Rahul')\n",
            "('Krishna', 'Rahul', 'Sagar', 'Radha')\n",
            "('Krishna', 'Rahul', 'Radha', 'Sagar')\n",
            "('Krishna', 'Radha', 'Sagar', 'Rahul')\n",
            "('Krishna', 'Radha', 'Rahul', 'Sagar')\n"
          ]
        }
      ]
    },
    {
      "cell_type": "markdown",
      "source": [
        "11.Calculate the weight of the word banana. ( weight = sum of ascii values of all characters )"
      ],
      "metadata": {
        "id": "RwP1L0gkADkQ"
      }
    },
    {
      "cell_type": "code",
      "source": [
        "word=\"banana\"\n",
        "weight=0\n",
        "c=list(word)\n",
        "for i in range(0,len(c)):\n",
        "  a=ord(c[i])\n",
        "  weight+=a\n",
        "\n",
        "print(\"Weight of {} is {}\".format(word,weight))"
      ],
      "metadata": {
        "colab": {
          "base_uri": "https://localhost:8080/"
        },
        "id": "KepCwJNrGc_I",
        "outputId": "72985415-a652-4130-f878-ad44cf246188"
      },
      "execution_count": null,
      "outputs": [
        {
          "output_type": "stream",
          "name": "stdout",
          "text": [
            "Weight of banana is 609\n"
          ]
        }
      ]
    },
    {
      "cell_type": "markdown",
      "source": [
        "12.Calculate how many times a string occurs in a given file."
      ],
      "metadata": {
        "id": "i3q0rVM-Aj7O"
      }
    },
    {
      "cell_type": "code",
      "source": [
        "fl=open(\"Names.txt\",\"r\")\n",
        "N=str(input(\"Enter the Name you want the count for: \"))\n",
        "g=[]\n",
        "k=[]\n",
        "dict1={}\n",
        "g=fl.readlines()\n",
        "for x in range(0,len(g)):\n",
        "  if'\\n' in g[x]:\n",
        "    g[x]=g[x].strip('\\n')\n",
        "for i in range(0,len(g)):\n",
        "  count=0\n",
        "  if g[i] not in k :\n",
        "    for j in range(0,len(g)):\n",
        "      if(g[i]==g[j]):\n",
        "        count=count+1\n",
        "        k.append(i)\n",
        "        k=set(k)\n",
        "        k=list(k)\n",
        "    dict1[g[i]]=count\n",
        "if N in g:\n",
        "  print(\"The count of Name in the File is {}\".format(dict1[N]))\n",
        "else: print(\"Name Doesn't Exist\")"
      ],
      "metadata": {
        "id": "MWNW5Ph465-k",
        "colab": {
          "base_uri": "https://localhost:8080/"
        },
        "outputId": "ce86779a-abd6-4994-bb69-6bbb0ce52439"
      },
      "execution_count": null,
      "outputs": [
        {
          "output_type": "stream",
          "name": "stdout",
          "text": [
            "Enter the Name you want the count for: Radha\n",
            "The count of Name in the File is 4\n"
          ]
        }
      ]
    },
    {
      "cell_type": "markdown",
      "source": [
        "17.Solve the fizz buzz problem"
      ],
      "metadata": {
        "id": "4f42e-JrA0eF"
      }
    },
    {
      "cell_type": "code",
      "source": [
        "number=[]\n",
        "for i in range(1,101):\n",
        "  number.append(i)\n",
        "print(number)\n",
        "for j in number:\n",
        "  if j%3==0 and j%5==0:\n",
        "    print(\"FizzBuzz\",end=' ')\n",
        "  elif j%3==0:\n",
        "    print(\"Fizz\",end=' ')\n",
        "  elif j%5==0:\n",
        "     print(\"Buzz\",end=' ')\n",
        "  else: print(j,end=' ')"
      ],
      "metadata": {
        "colab": {
          "base_uri": "https://localhost:8080/"
        },
        "id": "VZvGl62M8Cja",
        "outputId": "eb286703-360c-4352-9dd3-54799476a57b"
      },
      "execution_count": null,
      "outputs": [
        {
          "output_type": "stream",
          "name": "stdout",
          "text": [
            "[1, 2, 3, 4, 5, 6, 7, 8, 9, 10, 11, 12, 13, 14, 15, 16, 17, 18, 19, 20, 21, 22, 23, 24, 25, 26, 27, 28, 29, 30, 31, 32, 33, 34, 35, 36, 37, 38, 39, 40, 41, 42, 43, 44, 45, 46, 47, 48, 49, 50, 51, 52, 53, 54, 55, 56, 57, 58, 59, 60, 61, 62, 63, 64, 65, 66, 67, 68, 69, 70, 71, 72, 73, 74, 75, 76, 77, 78, 79, 80, 81, 82, 83, 84, 85, 86, 87, 88, 89, 90, 91, 92, 93, 94, 95, 96, 97, 98, 99, 100]\n",
            "1 2 Fizz 4 Buzz Fizz 7 8 Fizz Buzz 11 Fizz 13 14 FizzBuzz 16 17 Fizz 19 Buzz Fizz 22 23 Fizz Buzz 26 Fizz 28 29 FizzBuzz 31 32 Fizz 34 Buzz Fizz 37 38 Fizz Buzz 41 Fizz 43 44 FizzBuzz 46 47 Fizz 49 Buzz Fizz 52 53 Fizz Buzz 56 Fizz 58 59 FizzBuzz 61 62 Fizz 64 Buzz Fizz 67 68 Fizz Buzz 71 Fizz 73 74 FizzBuzz 76 77 Fizz 79 Buzz Fizz 82 83 Fizz Buzz 86 Fizz 88 89 FizzBuzz 91 92 Fizz 94 Buzz Fizz 97 98 Fizz Buzz "
          ]
        }
      ]
    },
    {
      "cell_type": "markdown",
      "source": [
        "20.Write a class to represent a car"
      ],
      "metadata": {
        "id": "4c-fGxmHA6Dy"
      }
    },
    {
      "cell_type": "code",
      "source": [
        "class Car():\n",
        "  def __init__(self,company,engine,color):\n",
        "    self.company=company\n",
        "    self.engine=engine\n",
        "    self.color=color\n",
        "  def printcar(self):\n",
        "    print(\"Your Car Details are Company= {},  Engine= {} and   Color= {}\".format(self.company,self.engine,self.color))\n",
        "a=Car(\"Ferrari\",\"Diesel\",\"Black\")\n",
        "b=Car(\"Audi\",\"Diesel\",\"White\")\n",
        "b.printcar()\n",
        "a.printcar()"
      ],
      "metadata": {
        "colab": {
          "base_uri": "https://localhost:8080/"
        },
        "id": "ACwqcMj7UbbG",
        "outputId": "920ec4e3-2bd4-41c7-c321-aa49dbb62c0a"
      },
      "execution_count": null,
      "outputs": [
        {
          "output_type": "stream",
          "name": "stdout",
          "text": [
            "Your Car Details are Company= Audi,  Engine= Diesel and   Color= White\n",
            "Your Car Details are Company= Ferrari,  Engine= Diesel and   Color= Black\n"
          ]
        }
      ]
    },
    {
      "cell_type": "markdown",
      "source": [
        "21.Write a class to represent a Laptop."
      ],
      "metadata": {
        "id": "RduqBwP1A8rT"
      }
    },
    {
      "cell_type": "code",
      "source": [
        "class Laptop():\n",
        "  def __init__(self,Ram,Storage,Processor,Display):\n",
        "    self.Ram=Ram\n",
        "    self.Storage=Storage\n",
        "    self.Processor=Processor\n",
        "    self.Display=Display\n",
        "\n",
        "  def printLaptop(self):\n",
        "    print(\"Your Laptop Details, Ram={} ,Storage={},Processor={},Display={}\".format(self.Ram,self.Storage,self.Processor,self.Display))\n",
        "a=Laptop(16,\"1TB\",\"Intel\",\"LED\")\n",
        "b=Laptop(32,\"250GBSSD\",\"AMD\",\"LCD\")\n",
        "c=Laptop('' ,\"\",\"\",\"\")\n",
        "a.printLaptop()\n",
        "b.printLaptop()\n",
        "c.printLaptop()"
      ],
      "metadata": {
        "colab": {
          "base_uri": "https://localhost:8080/"
        },
        "id": "bSQFsmEXXT4P",
        "outputId": "b8fe89fd-d4bb-46a1-b52f-e09534ed4de3"
      },
      "execution_count": null,
      "outputs": [
        {
          "output_type": "stream",
          "name": "stdout",
          "text": [
            "Your Laptop Details, Ram=16 ,Storage=1TB,Processor=Intel,Display=LED\n",
            "Your Laptop Details, Ram=32 ,Storage=250GBSSD,Processor=AMD,Display=LCD\n",
            "Your Laptop Details, Ram= ,Storage=,Processor=,Display=\n"
          ]
        }
      ]
    },
    {
      "cell_type": "markdown",
      "source": [
        "22.Write a class to represent an ATM machine."
      ],
      "metadata": {
        "id": "zcIY9AG8BEcN"
      }
    },
    {
      "cell_type": "code",
      "source": [
        "class ATM():\n",
        "  def __init__(self,Actual,Amount):\n",
        "    self.Amount=Amount\n",
        "    self.Actual=Actual\n",
        "    \n",
        "  def Deposit(self):\n",
        "    a=self.Amount+self.Actual\n",
        "    print(\"Deposited Successfully,Balance={}\".format(a))\n",
        "\n",
        "  def Withdrawal(self):\n",
        "    a=self.Actual-self.Amount\n",
        "    print(\"Withdrawal Successfully,Balance={}\".format(a))\n",
        "  def Balance(self):\n",
        "    print(\"Balance={}\".format(self.Actual))\n",
        "a=ATM(1000,250)\n",
        "a.Deposit()\n",
        "a.Withdrawal()\n",
        "a.Balance()"
      ],
      "metadata": {
        "colab": {
          "base_uri": "https://localhost:8080/"
        },
        "id": "DfGKo6d2ZjMf",
        "outputId": "3f55ffa6-a5a5-40f7-f961-cf88a89e59c1"
      },
      "execution_count": null,
      "outputs": [
        {
          "output_type": "stream",
          "name": "stdout",
          "text": [
            "Deposited Successfully,Balance=1250\n",
            "Withdrawal Successfully,Balance=750\n",
            "Balance=1000\n"
          ]
        }
      ]
    },
    {
      "cell_type": "markdown",
      "source": [
        "16.Given a number in binary, print its hex , octa and binary representation"
      ],
      "metadata": {
        "id": "FGWQY6H-BLz_"
      }
    },
    {
      "cell_type": "code",
      "source": [
        "n=int(input(\"Enter a Binary Number: \"))\n",
        "Hexadecimal=hex(n)\n",
        "print(Hexadecimal)\n",
        "Octal=oct(n)\n",
        "print(Octal)\n",
        "Binary=bin(n)\n",
        "print(Binary)"
      ],
      "metadata": {
        "colab": {
          "base_uri": "https://localhost:8080/"
        },
        "id": "FOPjEk_bcBFQ",
        "outputId": "6b820946-e8b3-4276-8e23-fbe0098f725c"
      },
      "execution_count": null,
      "outputs": [
        {
          "output_type": "stream",
          "name": "stdout",
          "text": [
            "Enter a Binary Number:1010\n",
            "0x3f2\n",
            "0o1762\n",
            "0b1111110010\n"
          ]
        }
      ]
    },
    {
      "cell_type": "markdown",
      "source": [
        "18.Encode a string by adding 10 to all the ascii characters of that string and decode it back"
      ],
      "metadata": {
        "id": "XDVTUuXhBSXQ"
      }
    },
    {
      "cell_type": "code",
      "source": [
        "k=[]\n",
        "l=\"\"\n",
        "string=input(\"Enter a String: \")\n",
        "string=list(string)\n",
        "for i in string:\n",
        "  b=ord(i)\n",
        "  c=b+10\n",
        "  k.append(chr(c))\n",
        "for j in k:\n",
        "  l+=j\n",
        "print(l)\n"
      ],
      "metadata": {
        "colab": {
          "base_uri": "https://localhost:8080/"
        },
        "id": "yt7y1VdIdxTN",
        "outputId": "71698a82-e8e8-440f-94c7-ad23b566e5d2"
      },
      "execution_count": null,
      "outputs": [
        {
          "output_type": "stream",
          "name": "stdout",
          "text": [
            "Enter a String: Sagar\n",
            "]kqk|\n"
          ]
        }
      ]
    },
    {
      "cell_type": "markdown",
      "source": [
        "14.Delete a file."
      ],
      "metadata": {
        "id": "onUbTjRAD7n0"
      }
    },
    {
      "cell_type": "code",
      "source": [
        "import os\n",
        "N=input(\"Enter a file you want to Delete: \")\n",
        "if os.path.exists(N):\n",
        "  os.remove(N)\n",
        "  print(\"Deleted Successfully\")\n",
        "else: print(\"File Doesn't Exist\")"
      ],
      "metadata": {
        "colab": {
          "base_uri": "https://localhost:8080/"
        },
        "id": "_WI5ukcWByui",
        "outputId": "50110bd9-92c3-441d-b8bc-b91d6bd47e53"
      },
      "execution_count": null,
      "outputs": [
        {
          "output_type": "stream",
          "name": "stdout",
          "text": [
            "Enter a file you want to Delete: Names.txt\n",
            "File Doesn't Exist\n"
          ]
        }
      ]
    },
    {
      "cell_type": "markdown",
      "source": [
        "  15.Print all the files in a given directory."
      ],
      "metadata": {
        "id": "KGb4YbISFgM6"
      }
    },
    {
      "cell_type": "code",
      "source": [
        "import os\n",
        "path=os.getcwd()\n",
        "os.listdir(path)\n"
      ],
      "metadata": {
        "colab": {
          "base_uri": "https://localhost:8080/"
        },
        "id": "AKb1Eh-2Frhf",
        "outputId": "9c08535e-0a12-43f9-b4ac-b84b82f644e1"
      },
      "execution_count": null,
      "outputs": [
        {
          "output_type": "execute_result",
          "data": {
            "text/plain": [
              "['.config', 'Names.txt', 'Marks.txt', 'sample_data']"
            ]
          },
          "metadata": {},
          "execution_count": 12
        }
      ]
    },
    {
      "cell_type": "markdown",
      "source": [
        "19.Use a function from another file"
      ],
      "metadata": {
        "id": "shBXUGvEIQcx"
      }
    },
    {
      "cell_type": "code",
      "source": [
        "from sample import printing\n",
        "X=int(input(\"Enter First Number: \"))\n",
        "Y=int(input(\"Enter Second Number: \"))\n",
        "print(\"Sum of two Numbers are : {}\".format(printing(X,Y)))"
      ],
      "metadata": {
        "colab": {
          "base_uri": "https://localhost:8080/"
        },
        "id": "5uXtmFxbIQBp",
        "outputId": "2fcd0405-249d-4f13-e028-415f23ced6a2"
      },
      "execution_count": null,
      "outputs": [
        {
          "output_type": "stream",
          "name": "stdout",
          "text": [
            "Enter First Number25\n",
            "Enter Second Number25\n",
            "Sum of two Numbers are : 50\n"
          ]
        }
      ]
    },
    {
      "cell_type": "markdown",
      "source": [
        "13.Given a file create its zip archive."
      ],
      "metadata": {
        "id": "THOSxEqFKHkx"
      }
    },
    {
      "cell_type": "code",
      "source": [
        "from zipfile import ZipFile\n",
        "z=ZipFile('zipping.zip','w')\n",
        "z.write('Marks.txt')\n",
        "z.write('Names.txt')\n",
        "z.write('sample.py')\n",
        "print(\"Zip File created Successfully\")\n",
        "z.close()"
      ],
      "metadata": {
        "colab": {
          "base_uri": "https://localhost:8080/"
        },
        "id": "CR9m58Y_KGu8",
        "outputId": "eba012e1-1574-4af1-87f2-51aa1bd6ba9a"
      },
      "execution_count": null,
      "outputs": [
        {
          "output_type": "stream",
          "name": "stdout",
          "text": [
            "Zip File created Successfully\n"
          ]
        }
      ]
    },
    {
      "cell_type": "markdown",
      "source": [
        "2.Hours to go for a particular time."
      ],
      "metadata": {
        "id": "bSFSnqhKOsMO"
      }
    },
    {
      "cell_type": "code",
      "source": [
        "import time\n",
        "end=int(input(\"Enter the Hour to calculate from current time\"))\n",
        "now=time.localtime()\n",
        "start=now.tm_hour\n",
        "calhr=start-end\n",
        "print(\"{} Hours to go\".format(calhr))"
      ],
      "metadata": {
        "colab": {
          "base_uri": "https://localhost:8080/"
        },
        "id": "D1eJB_uTOsje",
        "outputId": "86e5e636-6981-46d2-8a5a-5883422efb75"
      },
      "execution_count": null,
      "outputs": [
        {
          "output_type": "stream",
          "name": "stdout",
          "text": [
            "Enter the Hour to calculate from current time6\n",
            "4 Hours to go\n"
          ]
        }
      ]
    },
    {
      "cell_type": "markdown",
      "source": [
        "9.Fetch the data from a url and save it to a file."
      ],
      "metadata": {
        "id": "6oSQOOiCSMrd"
      }
    },
    {
      "cell_type": "code",
      "source": [
        "from urllib.request import urlopen\n",
        "\n",
        "url=urlopen(\"http://www.pythonchallenge.com/pc/def/ocr.html\")\n",
        "print(\"result code:{}\".format(str(url.getcode())))\n",
        "data=url.read()\n",
        "data=str(data)\n",
        "a=open(\"url.txt\",\"a\")\n",
        "a.write(data)\n",
        "a.close()"
      ],
      "metadata": {
        "colab": {
          "base_uri": "https://localhost:8080/"
        },
        "id": "osb97C-ISM7y",
        "outputId": "6b7711bd-2da7-4132-ecf7-65fe8e51e367"
      },
      "execution_count": null,
      "outputs": [
        {
          "output_type": "stream",
          "name": "stdout",
          "text": [
            "result code:200\n"
          ]
        }
      ]
    },
    {
      "cell_type": "markdown",
      "source": [
        "10.Fetch the data from a url and calculate the number of strings in it."
      ],
      "metadata": {
        "id": "9WecGykrUnX1"
      }
    },
    {
      "cell_type": "code",
      "source": [
        "from urllib.request import urlopen\n",
        "\n",
        "url=urlopen(\"http://www.pythonchallenge.com/pc/def/ocr.html\")\n",
        "print(\"result code:{}\".format(str(url.getcode())))\n",
        "data=url.read()\n",
        "data=str(data)\n",
        "data=data.split(' ')\n",
        "count=0\n",
        "for i in data:\n",
        "  count+=1\n",
        "print(count)"
      ],
      "metadata": {
        "colab": {
          "base_uri": "https://localhost:8080/"
        },
        "id": "PVeskClaUhOT",
        "outputId": "7fe1c537-49df-4a19-98a0-c8a2cb9d515b"
      },
      "execution_count": null,
      "outputs": [
        {
          "output_type": "stream",
          "name": "stdout",
          "text": [
            "result code:200\n",
            "77\n"
          ]
        }
      ]
    },
    {
      "cell_type": "markdown",
      "source": [
        "23.Write a class to represent a school."
      ],
      "metadata": {
        "id": "zMlrBdKhWQg1"
      }
    },
    {
      "cell_type": "code",
      "source": [
        "class School():\n",
        "  def __init__(self,standard,classteacher,rollno,floor):\n",
        "    self.standard=standard\n",
        "    self.classteacher=classteacher\n",
        "    self.rollno=rollno\n",
        "    self.floor=floor\n",
        "\n",
        "  def printschool(self):\n",
        "    print(\"Your Details, Standard={}, Classteacher={}, Rollno={}, Floor={}\".format(self.standard,self.classteacher,self.rollno,self.floor))\n",
        "a=School(4,\"Miss.Rosy\",\"F101\",\"GroundFloor\")\n",
        "b=School(1,\"Mrs.Elizabeth\",\"S101\",\"SecondFloor\")\n",
        "c=School(10 ,\"Mr.Dhawan\",\"X797\",\"FourthFloor\")\n",
        "a.printschool()\n",
        "b.printschool()\n",
        "c.printschool()"
      ],
      "metadata": {
        "colab": {
          "base_uri": "https://localhost:8080/"
        },
        "id": "KeNy8LR4WQ2a",
        "outputId": "5a524ad7-7d00-4a23-d21c-efff38029a4a"
      },
      "execution_count": null,
      "outputs": [
        {
          "output_type": "stream",
          "name": "stdout",
          "text": [
            "Your Details, Standard=4, Classteacher=Miss.Rosy, Rollno=F101, Floor=GroundFloor\n",
            "Your Details, Standard=1, Classteacher=Mrs.Elizabeth, Rollno=S101, Floor=SecondFloor\n",
            "Your Details, Standard=10, Classteacher=Mr.Dhawan, Rollno=X797, Floor=FourthFloor\n"
          ]
        }
      ]
    },
    {
      "cell_type": "markdown",
      "source": [
        "24.Write a class to represent a company."
      ],
      "metadata": {
        "id": "2g0k83FcWdkt"
      }
    },
    {
      "cell_type": "code",
      "source": [
        "class Company():\n",
        "  def __init__(self,Process_Name,ManagerName,Salary,Exp):\n",
        "    self.Process_Name=Process_Name\n",
        "    self.ManagerName=ManagerName\n",
        "    self.Salary=Salary\n",
        "    self.Exp=Exp\n",
        "\n",
        "  def printCompany(self):\n",
        "    print(\"Your Details, Process_Name={} ,ManagerName={},Salary={},Exp={}\".format(self.Process_Name,self.ManagerName,self.Salary,self.Exp))\n",
        "a=Company(\"DataScientist\",\"Mr.Satyam Nadella\",\"25LPA\",\"0\")\n",
        "b=Company(\"ML Engineer\",\"Mr.Sundar Pichai\",\"24LPA\",\"0\")\n",
        "c=Company(\"AI Engineer\" ,\"Mr.Mark Zuckerberg\",\"20LPA\",\"0\")\n",
        "a.printCompany()\n",
        "b.printCompany()\n",
        "c.printCompany()"
      ],
      "metadata": {
        "colab": {
          "base_uri": "https://localhost:8080/"
        },
        "id": "VCEcAqJeWd5B",
        "outputId": "41561235-84fa-4d20-dd4e-84aee47021c7"
      },
      "execution_count": null,
      "outputs": [
        {
          "output_type": "stream",
          "name": "stdout",
          "text": [
            "Your Details, Process_Name=DataScientist ,ManagerName=Mr.Satyam Nadella,Salary=25LPA,Exp=0\n",
            "Your Details, Process_Name=ML Engineer ,ManagerName=Mr.Sundar Pichai,Salary=24LPA,Exp=0\n",
            "Your Details, Process_Name=AI Engineer ,ManagerName=Mr.Mark Zuckerberg,Salary=20LPA,Exp=0\n"
          ]
        }
      ]
    },
    {
      "cell_type": "markdown",
      "source": [
        "25.Write a class to represent a Journey / Trip."
      ],
      "metadata": {
        "id": "-IsaNl0cWerq"
      }
    },
    {
      "cell_type": "code",
      "source": [
        "class Trip():\n",
        "  def __init__(self,Location,days,Price,Foodandtravel):\n",
        "    self.Location=Location\n",
        "    self.days=days\n",
        "    self.Price=Price\n",
        "    self.Foodandtravel=Foodandtravel\n",
        "\n",
        "  def printTrip(self):\n",
        "    print(\"Your Iternary, Location={} ,Days & Nights={},Price={},Food,Travel and Accomodation={}\".format(self.Location,self.days,self.Price,self.Foodandtravel))\n",
        "a=Trip(\"Europe\",\"5D&4N\",\"1.5L\",\"Covered\")\n",
        "b=Trip(\"CanadaNorthernLights\",\"10D&9N\",\"1L\",\"Covered\")\n",
        "c=Trip(\"Dubai\" ,\"3D&2N\",\"35k\",\"NotCovered\")\n",
        "a.printTrip()\n",
        "b.printTrip()\n",
        "c.printTrip()"
      ],
      "metadata": {
        "colab": {
          "base_uri": "https://localhost:8080/"
        },
        "id": "P58xKGVwWe9F",
        "outputId": "629fb392-e9dc-48b5-a1eb-8647e6e782e9"
      },
      "execution_count": null,
      "outputs": [
        {
          "output_type": "stream",
          "name": "stdout",
          "text": [
            "Your Iternary, Location=Europe ,Days & Nights=5D&4N,Price=1.5L,Food,Travel and Accomodation=Covered\n",
            "Your Iternary, Location=CanadaNorthernLights ,Days & Nights=10D&9N,Price=1L,Food,Travel and Accomodation=Covered\n",
            "Your Iternary, Location=Dubai ,Days & Nights=3D&2N,Price=35k,Food,Travel and Accomodation=NotCovered\n"
          ]
        }
      ]
    },
    {
      "cell_type": "markdown",
      "source": [
        "27.use dir function to print all the available functions in the following modules on standard output ::\n"
      ],
      "metadata": {
        "id": "z8YAZhglbleH"
      }
    },
    {
      "cell_type": "code",
      "source": [
        "import datetime,calendar,math,cmath,collections,email,gc,hashlib,html,http,io,json,logging,pdb,random,runpy,re,ssl,statistics,subprocess,sys,time,tkinter,types,typing,uuid,urllib\n",
        "Module=[datetime.datetime, datetime.date, datetime.timedelta,\n",
        "calendar,\n",
        "math,\n",
        "cmath,\n",
        "collections,\n",
        "email,\n",
        "gc,\n",
        "hashlib,\n",
        "html,\n",
        "http,\n",
        "io,\n",
        "json,\n",
        "logging,\n",
        "pdb,\n",
        "random,\n",
        "runpy,\n",
        "re,\n",
        "ssl,\n",
        "statistics,\n",
        "subprocess,\n",
        "sys,\n",
        "time,\n",
        "tkinter,\n",
        "types,\n",
        "typing,\n",
        "uuid,\n",
        "urllib]\n",
        "for i in Module:\n",
        "    print(dir(i))"
      ],
      "metadata": {
        "colab": {
          "base_uri": "https://localhost:8080/"
        },
        "id": "srVD9GkgblvO",
        "outputId": "9f59e3e2-6602-4b68-e815-e77a71d645b4"
      },
      "execution_count": null,
      "outputs": [
        {
          "output_type": "stream",
          "name": "stdout",
          "text": [
            "['__add__', '__class__', '__delattr__', '__dir__', '__doc__', '__eq__', '__format__', '__ge__', '__getattribute__', '__gt__', '__hash__', '__init__', '__init_subclass__', '__le__', '__lt__', '__ne__', '__new__', '__radd__', '__reduce__', '__reduce_ex__', '__repr__', '__rsub__', '__setattr__', '__sizeof__', '__str__', '__sub__', '__subclasshook__', 'astimezone', 'combine', 'ctime', 'date', 'day', 'dst', 'fold', 'fromisoformat', 'fromordinal', 'fromtimestamp', 'hour', 'isocalendar', 'isoformat', 'isoweekday', 'max', 'microsecond', 'min', 'minute', 'month', 'now', 'replace', 'resolution', 'second', 'strftime', 'strptime', 'time', 'timestamp', 'timetuple', 'timetz', 'today', 'toordinal', 'tzinfo', 'tzname', 'utcfromtimestamp', 'utcnow', 'utcoffset', 'utctimetuple', 'weekday', 'year']\n",
            "['__add__', '__class__', '__delattr__', '__dir__', '__doc__', '__eq__', '__format__', '__ge__', '__getattribute__', '__gt__', '__hash__', '__init__', '__init_subclass__', '__le__', '__lt__', '__ne__', '__new__', '__radd__', '__reduce__', '__reduce_ex__', '__repr__', '__rsub__', '__setattr__', '__sizeof__', '__str__', '__sub__', '__subclasshook__', 'ctime', 'day', 'fromisoformat', 'fromordinal', 'fromtimestamp', 'isocalendar', 'isoformat', 'isoweekday', 'max', 'min', 'month', 'replace', 'resolution', 'strftime', 'timetuple', 'today', 'toordinal', 'weekday', 'year']\n",
            "['__abs__', '__add__', '__bool__', '__class__', '__delattr__', '__dir__', '__divmod__', '__doc__', '__eq__', '__floordiv__', '__format__', '__ge__', '__getattribute__', '__gt__', '__hash__', '__init__', '__init_subclass__', '__le__', '__lt__', '__mod__', '__mul__', '__ne__', '__neg__', '__new__', '__pos__', '__radd__', '__rdivmod__', '__reduce__', '__reduce_ex__', '__repr__', '__rfloordiv__', '__rmod__', '__rmul__', '__rsub__', '__rtruediv__', '__setattr__', '__sizeof__', '__str__', '__sub__', '__subclasshook__', '__truediv__', 'days', 'max', 'microseconds', 'min', 'resolution', 'seconds', 'total_seconds']\n",
            "['Calendar', 'EPOCH', 'FRIDAY', 'February', 'HTMLCalendar', 'IllegalMonthError', 'IllegalWeekdayError', 'January', 'LocaleHTMLCalendar', 'LocaleTextCalendar', 'MONDAY', 'SATURDAY', 'SUNDAY', 'THURSDAY', 'TUESDAY', 'TextCalendar', 'WEDNESDAY', '_EPOCH_ORD', '__all__', '__builtins__', '__cached__', '__doc__', '__file__', '__loader__', '__name__', '__package__', '__spec__', '_colwidth', '_locale', '_localized_day', '_localized_month', '_spacing', 'c', 'calendar', 'datetime', 'day_abbr', 'day_name', 'different_locale', 'error', 'firstweekday', 'format', 'formatstring', 'isleap', 'leapdays', 'main', 'mdays', 'month', 'month_abbr', 'month_name', 'monthcalendar', 'monthlen', 'monthrange', 'nextmonth', 'prcal', 'prevmonth', 'prmonth', 'prweek', 'repeat', 'setfirstweekday', 'sys', 'timegm', 'week', 'weekday', 'weekheader']\n",
            "['__doc__', '__loader__', '__name__', '__package__', '__spec__', 'acos', 'acosh', 'asin', 'asinh', 'atan', 'atan2', 'atanh', 'ceil', 'copysign', 'cos', 'cosh', 'degrees', 'e', 'erf', 'erfc', 'exp', 'expm1', 'fabs', 'factorial', 'floor', 'fmod', 'frexp', 'fsum', 'gamma', 'gcd', 'hypot', 'inf', 'isclose', 'isfinite', 'isinf', 'isnan', 'ldexp', 'lgamma', 'log', 'log10', 'log1p', 'log2', 'modf', 'nan', 'pi', 'pow', 'radians', 'remainder', 'sin', 'sinh', 'sqrt', 'tan', 'tanh', 'tau', 'trunc']\n",
            "['__doc__', '__loader__', '__name__', '__package__', '__spec__', 'acos', 'acosh', 'asin', 'asinh', 'atan', 'atanh', 'cos', 'cosh', 'e', 'exp', 'inf', 'infj', 'isclose', 'isfinite', 'isinf', 'isnan', 'log', 'log10', 'nan', 'nanj', 'phase', 'pi', 'polar', 'rect', 'sin', 'sinh', 'sqrt', 'tan', 'tanh', 'tau']\n",
            "['ChainMap', 'Counter', 'OrderedDict', 'UserDict', 'UserList', 'UserString', '_Link', '_OrderedDictItemsView', '_OrderedDictKeysView', '_OrderedDictValuesView', '__all__', '__builtins__', '__cached__', '__doc__', '__file__', '__getattr__', '__loader__', '__name__', '__package__', '__path__', '__spec__', '_chain', '_collections_abc', '_count_elements', '_eq', '_heapq', '_iskeyword', '_itemgetter', '_nt_itemgetters', '_proxy', '_recursive_repr', '_repeat', '_starmap', '_sys', 'abc', 'defaultdict', 'deque', 'namedtuple']\n",
            "['__all__', '__builtins__', '__cached__', '__doc__', '__file__', '__loader__', '__name__', '__package__', '__path__', '__spec__', '_encoded_words', '_parseaddr', '_policybase', 'base64mime', 'charset', 'encoders', 'errors', 'feedparser', 'header', 'iterators', 'message', 'message_from_binary_file', 'message_from_bytes', 'message_from_file', 'message_from_string', 'parser', 'quoprimime', 'utils']\n",
            "['DEBUG_COLLECTABLE', 'DEBUG_LEAK', 'DEBUG_SAVEALL', 'DEBUG_STATS', 'DEBUG_UNCOLLECTABLE', '__doc__', '__loader__', '__name__', '__package__', '__spec__', 'callbacks', 'collect', 'disable', 'enable', 'freeze', 'garbage', 'get_count', 'get_debug', 'get_freeze_count', 'get_objects', 'get_referents', 'get_referrers', 'get_stats', 'get_threshold', 'is_tracked', 'isenabled', 'set_debug', 'set_threshold', 'unfreeze']\n",
            "['__all__', '__builtin_constructor_cache', '__builtins__', '__cached__', '__doc__', '__file__', '__get_builtin_constructor', '__loader__', '__name__', '__package__', '__spec__', '_hashlib', 'algorithms_available', 'algorithms_guaranteed', 'blake2b', 'blake2s', 'md5', 'new', 'pbkdf2_hmac', 'scrypt', 'sha1', 'sha224', 'sha256', 'sha384', 'sha3_224', 'sha3_256', 'sha3_384', 'sha3_512', 'sha512', 'shake_128', 'shake_256']\n",
            "['__all__', '__builtins__', '__cached__', '__doc__', '__file__', '__loader__', '__name__', '__package__', '__path__', '__spec__', '_charref', '_html5', '_invalid_charrefs', '_invalid_codepoints', '_re', '_replace_charref', 'entities', 'escape', 'unescape']\n",
            "['HTTPStatus', 'IntEnum', '__all__', '__builtins__', '__cached__', '__doc__', '__file__', '__loader__', '__name__', '__package__', '__path__', '__spec__', 'client', 'cookiejar', 'cookies', 'server']\n",
            "['BlockingIOError', 'BufferedIOBase', 'BufferedRWPair', 'BufferedRandom', 'BufferedReader', 'BufferedWriter', 'BytesIO', 'DEFAULT_BUFFER_SIZE', 'FileIO', 'IOBase', 'IncrementalNewlineDecoder', 'OpenWrapper', 'RawIOBase', 'SEEK_CUR', 'SEEK_END', 'SEEK_SET', 'StringIO', 'TextIOBase', 'TextIOWrapper', 'UnsupportedOperation', '__all__', '__author__', '__builtins__', '__cached__', '__doc__', '__file__', '__loader__', '__name__', '__package__', '__spec__', '_io', 'abc', 'open']\n",
            "['JSONDecodeError', 'JSONDecoder', 'JSONEncoder', '__all__', '__author__', '__builtins__', '__cached__', '__doc__', '__file__', '__loader__', '__name__', '__package__', '__path__', '__spec__', '__version__', '_default_decoder', '_default_encoder', 'codecs', 'decoder', 'detect_encoding', 'dump', 'dumps', 'encoder', 'load', 'loads', 'scanner']\n",
            "['BASIC_FORMAT', 'BufferingFormatter', 'CRITICAL', 'DEBUG', 'ERROR', 'FATAL', 'FileHandler', 'Filter', 'Filterer', 'Formatter', 'Handler', 'INFO', 'LogRecord', 'Logger', 'LoggerAdapter', 'Manager', 'NOTSET', 'NullHandler', 'PercentStyle', 'PlaceHolder', 'RootLogger', 'StrFormatStyle', 'StreamHandler', 'StringTemplateStyle', 'Template', 'WARN', 'WARNING', '_STYLES', '_StderrHandler', '__all__', '__author__', '__builtins__', '__cached__', '__date__', '__doc__', '__file__', '__loader__', '__name__', '__package__', '__path__', '__spec__', '__status__', '__version__', '_acquireLock', '_addHandlerRef', '_after_at_fork_child_reinit_locks', '_at_fork_reinit_lock_weakset', '_checkLevel', '_defaultFormatter', '_defaultLastResort', '_handlerList', '_handlers', '_levelToName', '_lock', '_logRecordFactory', '_loggerClass', '_nameToLevel', '_register_at_fork_reinit_lock', '_releaseLock', '_removeHandlerRef', '_showwarning', '_srcfile', '_startTime', '_warnings_showwarning', 'addLevelName', 'atexit', 'basicConfig', 'captureWarnings', 'collections', 'critical', 'currentframe', 'debug', 'disable', 'error', 'exception', 'fatal', 'getLevelName', 'getLogRecordFactory', 'getLogger', 'getLoggerClass', 'handlers', 'info', 'io', 'lastResort', 'log', 'logMultiprocessing', 'logProcesses', 'logThreads', 'makeLogRecord', 'os', 'raiseExceptions', 'root', 'setLogRecordFactory', 'setLoggerClass', 'shutdown', 'sys', 'threading', 'time', 'traceback', 'warn', 'warning', 'warnings', 'weakref']\n",
            "['Pdb', 'Restart', 'TESTCMD', '__all__', '__builtins__', '__cached__', '__doc__', '__file__', '__loader__', '__name__', '__package__', '__spec__', '_rstr', '_usage', 'bdb', 'cmd', 'code', 'dis', 'find_function', 'getsourcelines', 'glob', 'help', 'inspect', 'lasti2lineno', 'line_prefix', 'linecache', 'main', 'os', 'pm', 'post_mortem', 'pprint', 're', 'run', 'runcall', 'runctx', 'runeval', 'set_trace', 'signal', 'sys', 'test', 'traceback']\n",
            "['BPF', 'LOG4', 'NV_MAGICCONST', 'RECIP_BPF', 'Random', 'SG_MAGICCONST', 'SystemRandom', 'TWOPI', '_BuiltinMethodType', '_MethodType', '_Sequence', '_Set', '__all__', '__builtins__', '__cached__', '__doc__', '__file__', '__loader__', '__name__', '__package__', '__spec__', '_acos', '_bisect', '_ceil', '_cos', '_e', '_exp', '_inst', '_itertools', '_log', '_os', '_pi', '_random', '_sha512', '_sin', '_sqrt', '_test', '_test_generator', '_urandom', '_warn', 'betavariate', 'choice', 'choices', 'expovariate', 'gammavariate', 'gauss', 'getrandbits', 'getstate', 'lognormvariate', 'normalvariate', 'paretovariate', 'randint', 'random', 'randrange', 'sample', 'seed', 'setstate', 'shuffle', 'triangular', 'uniform', 'vonmisesvariate', 'weibullvariate']\n",
            "['_Error', '_ModifiedArgv0', '_TempModule', '__all__', '__builtins__', '__cached__', '__doc__', '__file__', '__loader__', '__name__', '__package__', '__spec__', '_get_code_from_file', '_get_main_module_details', '_get_module_details', '_run_code', '_run_module_as_main', '_run_module_code', 'get_importer', 'importlib', 'read_code', 'run_module', 'run_path', 'sys', 'types']\n",
            "['A', 'ASCII', 'DEBUG', 'DOTALL', 'I', 'IGNORECASE', 'L', 'LOCALE', 'M', 'MULTILINE', 'Match', 'Pattern', 'RegexFlag', 'S', 'Scanner', 'T', 'TEMPLATE', 'U', 'UNICODE', 'VERBOSE', 'X', '_MAXCACHE', '__all__', '__builtins__', '__cached__', '__doc__', '__file__', '__loader__', '__name__', '__package__', '__spec__', '__version__', '_cache', '_compile', '_compile_repl', '_expand', '_locale', '_pickle', '_special_chars_map', '_subx', 'compile', 'copyreg', 'enum', 'error', 'escape', 'findall', 'finditer', 'fullmatch', 'functools', 'match', 'purge', 'search', 'split', 'sre_compile', 'sre_parse', 'sub', 'subn', 'template']\n",
            "['AF_INET', 'ALERT_DESCRIPTION_ACCESS_DENIED', 'ALERT_DESCRIPTION_BAD_CERTIFICATE', 'ALERT_DESCRIPTION_BAD_CERTIFICATE_HASH_VALUE', 'ALERT_DESCRIPTION_BAD_CERTIFICATE_STATUS_RESPONSE', 'ALERT_DESCRIPTION_BAD_RECORD_MAC', 'ALERT_DESCRIPTION_CERTIFICATE_EXPIRED', 'ALERT_DESCRIPTION_CERTIFICATE_REVOKED', 'ALERT_DESCRIPTION_CERTIFICATE_UNKNOWN', 'ALERT_DESCRIPTION_CERTIFICATE_UNOBTAINABLE', 'ALERT_DESCRIPTION_CLOSE_NOTIFY', 'ALERT_DESCRIPTION_DECODE_ERROR', 'ALERT_DESCRIPTION_DECOMPRESSION_FAILURE', 'ALERT_DESCRIPTION_DECRYPT_ERROR', 'ALERT_DESCRIPTION_HANDSHAKE_FAILURE', 'ALERT_DESCRIPTION_ILLEGAL_PARAMETER', 'ALERT_DESCRIPTION_INSUFFICIENT_SECURITY', 'ALERT_DESCRIPTION_INTERNAL_ERROR', 'ALERT_DESCRIPTION_NO_RENEGOTIATION', 'ALERT_DESCRIPTION_PROTOCOL_VERSION', 'ALERT_DESCRIPTION_RECORD_OVERFLOW', 'ALERT_DESCRIPTION_UNEXPECTED_MESSAGE', 'ALERT_DESCRIPTION_UNKNOWN_CA', 'ALERT_DESCRIPTION_UNKNOWN_PSK_IDENTITY', 'ALERT_DESCRIPTION_UNRECOGNIZED_NAME', 'ALERT_DESCRIPTION_UNSUPPORTED_CERTIFICATE', 'ALERT_DESCRIPTION_UNSUPPORTED_EXTENSION', 'ALERT_DESCRIPTION_USER_CANCELLED', 'AlertDescription', 'CERT_NONE', 'CERT_OPTIONAL', 'CERT_REQUIRED', 'CHANNEL_BINDING_TYPES', 'CertificateError', 'DER_cert_to_PEM_cert', 'DefaultVerifyPaths', 'HAS_ALPN', 'HAS_ECDH', 'HAS_NEVER_CHECK_COMMON_NAME', 'HAS_NPN', 'HAS_SNI', 'HAS_SSLv2', 'HAS_SSLv3', 'HAS_TLSv1', 'HAS_TLSv1_1', 'HAS_TLSv1_2', 'HAS_TLSv1_3', 'MemoryBIO', 'OPENSSL_VERSION', 'OPENSSL_VERSION_INFO', 'OPENSSL_VERSION_NUMBER', 'OP_ALL', 'OP_CIPHER_SERVER_PREFERENCE', 'OP_ENABLE_MIDDLEBOX_COMPAT', 'OP_NO_COMPRESSION', 'OP_NO_RENEGOTIATION', 'OP_NO_SSLv2', 'OP_NO_SSLv3', 'OP_NO_TICKET', 'OP_NO_TLSv1', 'OP_NO_TLSv1_1', 'OP_NO_TLSv1_2', 'OP_NO_TLSv1_3', 'OP_SINGLE_DH_USE', 'OP_SINGLE_ECDH_USE', 'Options', 'PEM_FOOTER', 'PEM_HEADER', 'PEM_cert_to_DER_cert', 'PROTOCOL_SSLv23', 'PROTOCOL_TLS', 'PROTOCOL_TLS_CLIENT', 'PROTOCOL_TLS_SERVER', 'PROTOCOL_TLSv1', 'PROTOCOL_TLSv1_1', 'PROTOCOL_TLSv1_2', 'Purpose', 'RAND_add', 'RAND_bytes', 'RAND_pseudo_bytes', 'RAND_status', 'SOCK_STREAM', 'SOL_SOCKET', 'SO_TYPE', 'SSLCertVerificationError', 'SSLContext', 'SSLEOFError', 'SSLError', 'SSLErrorNumber', 'SSLObject', 'SSLSession', 'SSLSocket', 'SSLSyscallError', 'SSLWantReadError', 'SSLWantWriteError', 'SSLZeroReturnError', 'SSL_ERROR_EOF', 'SSL_ERROR_INVALID_ERROR_CODE', 'SSL_ERROR_SSL', 'SSL_ERROR_SYSCALL', 'SSL_ERROR_WANT_CONNECT', 'SSL_ERROR_WANT_READ', 'SSL_ERROR_WANT_WRITE', 'SSL_ERROR_WANT_X509_LOOKUP', 'SSL_ERROR_ZERO_RETURN', 'TLSVersion', 'VERIFY_CRL_CHECK_CHAIN', 'VERIFY_CRL_CHECK_LEAF', 'VERIFY_DEFAULT', 'VERIFY_X509_STRICT', 'VERIFY_X509_TRUSTED_FIRST', 'VerifyFlags', 'VerifyMode', '_ASN1Object', '_DEFAULT_CIPHERS', '_Enum', '_IntEnum', '_IntFlag', '_OPENSSL_API_VERSION', '_PROTOCOL_NAMES', '_RESTRICTED_SERVER_CIPHERS', '_SSLContext', '_SSLMethod', '_SSLv2_IF_EXISTS', '__builtins__', '__cached__', '__doc__', '__file__', '__loader__', '__name__', '__package__', '__spec__', '_create_default_https_context', '_create_stdlib_context', '_create_unverified_context', '_dnsname_match', '_inet_paton', '_ipaddress_match', '_nid2obj', '_socket', '_ssl', '_sslcopydoc', '_txt2obj', 'base64', 'cert_time_to_seconds', 'create_connection', 'create_default_context', 'errno', 'get_default_verify_paths', 'get_protocol_name', 'get_server_certificate', 'match_hostname', 'namedtuple', 'os', 'socket', 'socket_error', 'sys', 'warnings', 'wrap_socket']\n",
            "['Decimal', 'Fraction', 'StatisticsError', '__all__', '__builtins__', '__cached__', '__doc__', '__file__', '__loader__', '__name__', '__package__', '__spec__', '_coerce', '_convert', '_counts', '_exact_ratio', '_fail_neg', '_find_lteq', '_find_rteq', '_isfinite', '_ss', '_sum', 'bisect_left', 'bisect_right', 'collections', 'groupby', 'harmonic_mean', 'math', 'mean', 'median', 'median_grouped', 'median_high', 'median_low', 'mode', 'numbers', 'pstdev', 'pvariance', 'stdev', 'variance']\n",
            "['CalledProcessError', 'CompletedProcess', 'DEVNULL', 'PIPE', 'Popen', 'STDOUT', 'SubprocessError', 'TimeoutExpired', '_PIPE_BUF', '_PopenSelector', '__all__', '__builtins__', '__cached__', '__doc__', '__file__', '__loader__', '__name__', '__package__', '__spec__', '_active', '_args_from_interpreter_flags', '_cleanup', '_mswindows', '_optim_args_from_interpreter_flags', '_posixsubprocess', '_time', 'builtins', 'call', 'check_call', 'check_output', 'errno', 'getoutput', 'getstatusoutput', 'io', 'list2cmdline', 'os', 'run', 'select', 'selectors', 'signal', 'sys', 'threading', 'time', 'warnings']\n",
            "['__breakpointhook__', '__displayhook__', '__doc__', '__excepthook__', '__interactivehook__', '__loader__', '__name__', '__package__', '__spec__', '__stderr__', '__stdin__', '__stdout__', '_clear_type_cache', '_current_frames', '_debugmallocstats', '_framework', '_getframe', '_git', '_home', '_xoptions', 'abiflags', 'api_version', 'argv', 'base_exec_prefix', 'base_prefix', 'breakpointhook', 'builtin_module_names', 'byteorder', 'call_tracing', 'callstats', 'copyright', 'displayhook', 'dont_write_bytecode', 'exc_info', 'excepthook', 'exec_prefix', 'executable', 'exit', 'flags', 'float_info', 'float_repr_style', 'get_asyncgen_hooks', 'get_coroutine_origin_tracking_depth', 'get_coroutine_wrapper', 'get_int_max_str_digits', 'getallocatedblocks', 'getcheckinterval', 'getdefaultencoding', 'getdlopenflags', 'getfilesystemencodeerrors', 'getfilesystemencoding', 'getprofile', 'getrecursionlimit', 'getrefcount', 'getsizeof', 'getswitchinterval', 'gettrace', 'hash_info', 'hexversion', 'implementation', 'int_info', 'intern', 'is_finalizing', 'last_traceback', 'last_type', 'last_value', 'maxsize', 'maxunicode', 'meta_path', 'modules', 'path', 'path_hooks', 'path_importer_cache', 'platform', 'prefix', 'ps1', 'ps2', 'ps3', 'set_asyncgen_hooks', 'set_coroutine_origin_tracking_depth', 'set_coroutine_wrapper', 'set_int_max_str_digits', 'setcheckinterval', 'setdlopenflags', 'setprofile', 'setrecursionlimit', 'setswitchinterval', 'settrace', 'stderr', 'stdin', 'stdout', 'thread_info', 'version', 'version_info', 'warnoptions']\n",
            "['CLOCK_BOOTTIME', 'CLOCK_MONOTONIC', 'CLOCK_MONOTONIC_RAW', 'CLOCK_PROCESS_CPUTIME_ID', 'CLOCK_REALTIME', 'CLOCK_THREAD_CPUTIME_ID', '_STRUCT_TM_ITEMS', '__doc__', '__loader__', '__name__', '__package__', '__spec__', 'altzone', 'asctime', 'clock', 'clock_getres', 'clock_gettime', 'clock_gettime_ns', 'clock_settime', 'clock_settime_ns', 'ctime', 'daylight', 'get_clock_info', 'gmtime', 'localtime', 'mktime', 'monotonic', 'monotonic_ns', 'perf_counter', 'perf_counter_ns', 'process_time', 'process_time_ns', 'pthread_getcpuclockid', 'sleep', 'strftime', 'strptime', 'struct_time', 'thread_time', 'thread_time_ns', 'time', 'time_ns', 'timezone', 'tzname', 'tzset']\n",
            "['ACTIVE', 'ALL', 'ANCHOR', 'ARC', 'BASELINE', 'BEVEL', 'BOTH', 'BOTTOM', 'BROWSE', 'BUTT', 'BaseWidget', 'BitmapImage', 'BooleanVar', 'Button', 'CASCADE', 'CENTER', 'CHAR', 'CHECKBUTTON', 'CHORD', 'COMMAND', 'CURRENT', 'CallWrapper', 'Canvas', 'Checkbutton', 'DISABLED', 'DOTBOX', 'DoubleVar', 'E', 'END', 'EW', 'EXCEPTION', 'EXTENDED', 'Entry', 'Event', 'EventType', 'FALSE', 'FIRST', 'FLAT', 'Frame', 'GROOVE', 'Grid', 'HIDDEN', 'HORIZONTAL', 'INSERT', 'INSIDE', 'Image', 'IntVar', 'LAST', 'LEFT', 'Label', 'LabelFrame', 'Listbox', 'MITER', 'MOVETO', 'MULTIPLE', 'Menu', 'Menubutton', 'Message', 'Misc', 'N', 'NE', 'NO', 'NONE', 'NORMAL', 'NS', 'NSEW', 'NUMERIC', 'NW', 'NoDefaultRoot', 'OFF', 'ON', 'OUTSIDE', 'OptionMenu', 'PAGES', 'PIESLICE', 'PROJECTING', 'Pack', 'PanedWindow', 'PhotoImage', 'Place', 'RADIOBUTTON', 'RAISED', 'READABLE', 'RIDGE', 'RIGHT', 'ROUND', 'Radiobutton', 'S', 'SCROLL', 'SE', 'SEL', 'SEL_FIRST', 'SEL_LAST', 'SEPARATOR', 'SINGLE', 'SOLID', 'SUNKEN', 'SW', 'Scale', 'Scrollbar', 'Spinbox', 'StringVar', 'TOP', 'TRUE', 'Tcl', 'TclError', 'TclVersion', 'Text', 'Tk', 'TkVersion', 'Toplevel', 'UNDERLINE', 'UNITS', 'VERTICAL', 'Variable', 'W', 'WORD', 'WRITABLE', 'Widget', 'Wm', 'X', 'XView', 'Y', 'YES', 'YView', '__builtins__', '__cached__', '__doc__', '__file__', '__loader__', '__name__', '__package__', '__path__', '__spec__', '_cnfmerge', '_default_root', '_exit', '_flatten', '_join', '_magic_re', '_setit', '_space_re', '_splitdict', '_stringify', '_support_default_root', '_test', '_tkerror', '_tkinter', '_varnum', 'constants', 'enum', 'getboolean', 'getdouble', 'getint', 'image_names', 'image_types', 'mainloop', 're', 'sys', 'wantobjects']\n",
            "['AsyncGeneratorType', 'BuiltinFunctionType', 'BuiltinMethodType', 'ClassMethodDescriptorType', 'CodeType', 'CoroutineType', 'DynamicClassAttribute', 'FrameType', 'FunctionType', 'GeneratorType', 'GetSetDescriptorType', 'LambdaType', 'MappingProxyType', 'MemberDescriptorType', 'MethodDescriptorType', 'MethodType', 'MethodWrapperType', 'ModuleType', 'SimpleNamespace', 'TracebackType', 'WrapperDescriptorType', '_GeneratorWrapper', '__all__', '__builtins__', '__cached__', '__doc__', '__file__', '__loader__', '__name__', '__package__', '__spec__', '_calculate_meta', 'coroutine', 'new_class', 'prepare_class', 'resolve_bases']\n",
            "['AbstractSet', 'Any', 'AnyStr', 'AsyncContextManager', 'AsyncGenerator', 'AsyncIterable', 'AsyncIterator', 'Awaitable', 'BinaryIO', 'ByteString', 'CT_co', 'Callable', 'ChainMap', 'ClassVar', 'Collection', 'Container', 'ContextManager', 'Coroutine', 'Counter', 'DefaultDict', 'Deque', 'Dict', 'ForwardRef', 'FrozenSet', 'Generator', 'Generic', 'Hashable', 'IO', 'ItemsView', 'Iterable', 'Iterator', 'KT', 'KeysView', 'List', 'Mapping', 'MappingView', 'Match', 'MethodDescriptorType', 'MethodWrapperType', 'MutableMapping', 'MutableSequence', 'MutableSet', 'NamedTuple', 'NamedTupleMeta', 'NewType', 'NoReturn', 'Optional', 'OrderedDict', 'Pattern', 'Reversible', 'Sequence', 'Set', 'Sized', 'SupportsAbs', 'SupportsBytes', 'SupportsComplex', 'SupportsFloat', 'SupportsInt', 'SupportsRound', 'T', 'TYPE_CHECKING', 'T_co', 'T_contra', 'Text', 'TextIO', 'Tuple', 'Type', 'TypeVar', 'Union', 'VT', 'VT_co', 'V_co', 'ValuesView', 'WrapperDescriptorType', '_Final', '_GenericAlias', '_Immutable', '_Protocol', '_ProtocolMeta', '_SpecialForm', '_TypingEllipsis', '_TypingEmpty', '_VariadicGenericAlias', '__all__', '__builtins__', '__cached__', '__doc__', '__file__', '__loader__', '__name__', '__package__', '__spec__', '_alias', '_allowed_types', '_check_generic', '_cleanups', '_collect_type_vars', '_eval_type', '_get_defaults', '_is_dunder', '_make_nmtuple', '_normalize_alias', '_overload_dummy', '_prohibited', '_remove_dups_flatten', '_special', '_subs_tvars', '_tp_cache', '_type_check', '_type_repr', 'abc', 'abstractmethod', 'abstractproperty', 'cast', 'collections', 'contextlib', 'functools', 'get_type_hints', 'io', 'no_type_check', 'no_type_check_decorator', 'operator', 'overload', 're', 'stdlib_re', 'sys', 'types']\n",
            "['Enum', 'NAMESPACE_DNS', 'NAMESPACE_OID', 'NAMESPACE_URL', 'NAMESPACE_X500', 'RESERVED_FUTURE', 'RESERVED_MICROSOFT', 'RESERVED_NCS', 'RFC_4122', 'SafeUUID', 'UUID', '_NODE_GETTERS_UNIX', '_NODE_GETTERS_WIN32', '_UuidCreate', '__author__', '__builtins__', '__cached__', '__doc__', '__file__', '__loader__', '__name__', '__package__', '__spec__', '_arp_getnode', '_find_mac', '_generate_time_safe', '_has_uuid_generate_time_safe', '_ifconfig_getnode', '_ip_getnode', '_ipconfig_getnode', '_is_universal', '_lanscan_getnode', '_last_timestamp', '_load_system_functions', '_netbios_getnode', '_netstat_getnode', '_node', '_popen', '_random_getnode', '_unix_getnode', '_uuid', '_windll_getnode', 'bytes_', 'getnode', 'int_', 'os', 'sys', 'uuid1', 'uuid3', 'uuid4', 'uuid5']\n",
            "['__builtins__', '__cached__', '__doc__', '__file__', '__loader__', '__name__', '__package__', '__path__', '__spec__', 'error', 'parse', 'request', 'response']\n"
          ]
        }
      ]
    },
    {
      "cell_type": "markdown",
      "source": [
        "31.Given a user_input as a string, calculate its md5 hash"
      ],
      "metadata": {
        "id": "owTsrilqhuGq"
      }
    },
    {
      "cell_type": "code",
      "source": [
        "import hashlib\n",
        "Str=input(\"Enter a String: \")\n",
        "print(\"Md5 hash of {} is : {}\".format(Str,hashlib.md5(Str.encode())))\n"
      ],
      "metadata": {
        "colab": {
          "base_uri": "https://localhost:8080/"
        },
        "id": "90GAVll0c-MN",
        "outputId": "f1cfb331-f5d7-4c12-b0b2-e50cdaa7088d"
      },
      "execution_count": null,
      "outputs": [
        {
          "output_type": "stream",
          "name": "stdout",
          "text": [
            "Enter a String: Sagar\n",
            "Md5 hash of Sagar is : <md5 HASH object @ 0x7f3941b95b40>\n"
          ]
        }
      ]
    },
    {
      "cell_type": "markdown",
      "source": [
        "32.given numbers ( in string format ) in a file, read them and create a numpy array"
      ],
      "metadata": {
        "id": "zF9ICIg8qdH7"
      }
    },
    {
      "cell_type": "code",
      "source": [
        "import numpy as np\n",
        "data=open('strnum.txt')\n",
        "data=list(data)\n",
        "for i in range(0,len(data)):\n",
        "  data[i]=data[i].strip('\\n')\n",
        "data=np.array(data)\n",
        "print(data)\n"
      ],
      "metadata": {
        "colab": {
          "base_uri": "https://localhost:8080/"
        },
        "id": "Kvsw5EKfm5yr",
        "outputId": "bf8551aa-4b34-471d-c994-5a67f2b78b6d"
      },
      "execution_count": null,
      "outputs": [
        {
          "output_type": "stream",
          "name": "stdout",
          "text": [
            "[\"'1'\" \"'2'\" \"'3'\" \"'4'\" \"'5'\" \"'6'\" \"'7'\" \"'8'\" \"'9'\" \"'10'\"]\n"
          ]
        }
      ]
    },
    {
      "cell_type": "markdown",
      "source": [
        "33.Given numbers ( in string format ) in a file, read them and create a pandas data frame object"
      ],
      "metadata": {
        "id": "63Q9hBBasXzY"
      }
    },
    {
      "cell_type": "code",
      "source": [
        "import pandas as pd\n",
        "data=open('strnum.txt')\n",
        "data=list(data)\n",
        "for i in range(0,len(data)):\n",
        "  data[i]=data[i].strip('\\n')\n",
        "data=pd.DataFrame(data)\n",
        "print(data)"
      ],
      "metadata": {
        "colab": {
          "base_uri": "https://localhost:8080/"
        },
        "id": "QszPBKa7sYL0",
        "outputId": "06791126-25f0-4686-ce7c-661da7b952bd"
      },
      "execution_count": null,
      "outputs": [
        {
          "output_type": "stream",
          "name": "stdout",
          "text": [
            "      0\n",
            "0   '1'\n",
            "1   '2'\n",
            "2   '3'\n",
            "3   '4'\n",
            "4   '5'\n",
            "5   '6'\n",
            "6   '7'\n",
            "7   '8'\n",
            "8   '9'\n",
            "9  '10'\n"
          ]
        }
      ]
    },
    {
      "cell_type": "markdown",
      "source": [
        "34.Given number ( in string format ) in a file, read them and create a pandas series"
      ],
      "metadata": {
        "id": "3cC4tUpZs_IL"
      }
    },
    {
      "cell_type": "code",
      "source": [
        "import pandas as pd\n",
        "data=open('strnum.txt')\n",
        "data=list(data)\n",
        "for i in range(0,len(data)):\n",
        "  data[i]=data[i].strip('\\n')\n",
        "data=pd.Series(data)\n",
        "print(data)"
      ],
      "metadata": {
        "colab": {
          "base_uri": "https://localhost:8080/"
        },
        "id": "UXX_FXQrs_ba",
        "outputId": "02673bcd-0627-4e64-cfd1-63c4db102ced"
      },
      "execution_count": null,
      "outputs": [
        {
          "output_type": "stream",
          "name": "stdout",
          "text": [
            "0     '1'\n",
            "1     '2'\n",
            "2     '3'\n",
            "3     '4'\n",
            "4     '5'\n",
            "5     '6'\n",
            "6     '7'\n",
            "7     '8'\n",
            "8     '9'\n",
            "9    '10'\n",
            "dtype: object\n"
          ]
        }
      ]
    },
    {
      "cell_type": "markdown",
      "source": [
        "35.Construct a 2x5 numpy matrix by taking all the numbers as input from user"
      ],
      "metadata": {
        "id": "9Tp_JUrLvgYw"
      }
    },
    {
      "cell_type": "code",
      "source": [
        "import numpy as np\n",
        "n=(input(\"Enter 10 elements: \"))\n",
        "n=n.split(' ')\n",
        "if len(n)!=10:\n",
        "  print(\"Please Enter 10 Numbers\")\n",
        "else: \n",
        "  n=np.array(n)\n",
        "  nmat=n.reshape(2,5)\n",
        "  print(\"2*5 Matrix for the numbers are: \")\n",
        "  print(nmat)"
      ],
      "metadata": {
        "colab": {
          "base_uri": "https://localhost:8080/"
        },
        "id": "_IJXZb_XvfQY",
        "outputId": "62c7e959-349c-4bdb-cca1-37f02cd62bd1"
      },
      "execution_count": null,
      "outputs": [
        {
          "output_type": "stream",
          "name": "stdout",
          "text": [
            "Enter 10 elements: 1 23 34\n",
            "Please Enter 10 Numbers\n"
          ]
        }
      ]
    },
    {
      "cell_type": "markdown",
      "source": [
        "36.Convert the above numpy matrix to a pandas data frame"
      ],
      "metadata": {
        "id": "PFBovJ7Yyu-l"
      }
    },
    {
      "cell_type": "code",
      "source": [
        "import pandas as pd\n",
        "n=(input(\"Enter 10 elements: \"))\n",
        "n=n.split(' ')\n",
        "if len(n)!=10:\n",
        "  print(\"Please Enter 10 Numbers\")\n",
        "else: \n",
        "  n=np.array(n)\n",
        "  nmat=n.reshape(2,5)\n",
        "nmat=pd.DataFrame(nmat)\n",
        "nmat"
      ],
      "metadata": {
        "colab": {
          "base_uri": "https://localhost:8080/",
          "height": 129
        },
        "id": "4_QOub_pyvZp",
        "outputId": "1018378d-f3c5-4fc8-bb42-556e65d27acd"
      },
      "execution_count": null,
      "outputs": [
        {
          "name": "stdout",
          "output_type": "stream",
          "text": [
            "Enter 10 elements: 1 2 3 4 5 6 7 8 9 10\n"
          ]
        },
        {
          "output_type": "execute_result",
          "data": {
            "text/plain": [
              "   0  1  2  3   4\n",
              "0  1  2  3  4   5\n",
              "1  6  7  8  9  10"
            ],
            "text/html": [
              "\n",
              "  <div id=\"df-73b62f02-32a8-430e-aa51-d7024aa922f3\">\n",
              "    <div class=\"colab-df-container\">\n",
              "      <div>\n",
              "<style scoped>\n",
              "    .dataframe tbody tr th:only-of-type {\n",
              "        vertical-align: middle;\n",
              "    }\n",
              "\n",
              "    .dataframe tbody tr th {\n",
              "        vertical-align: top;\n",
              "    }\n",
              "\n",
              "    .dataframe thead th {\n",
              "        text-align: right;\n",
              "    }\n",
              "</style>\n",
              "<table border=\"1\" class=\"dataframe\">\n",
              "  <thead>\n",
              "    <tr style=\"text-align: right;\">\n",
              "      <th></th>\n",
              "      <th>0</th>\n",
              "      <th>1</th>\n",
              "      <th>2</th>\n",
              "      <th>3</th>\n",
              "      <th>4</th>\n",
              "    </tr>\n",
              "  </thead>\n",
              "  <tbody>\n",
              "    <tr>\n",
              "      <th>0</th>\n",
              "      <td>1</td>\n",
              "      <td>2</td>\n",
              "      <td>3</td>\n",
              "      <td>4</td>\n",
              "      <td>5</td>\n",
              "    </tr>\n",
              "    <tr>\n",
              "      <th>1</th>\n",
              "      <td>6</td>\n",
              "      <td>7</td>\n",
              "      <td>8</td>\n",
              "      <td>9</td>\n",
              "      <td>10</td>\n",
              "    </tr>\n",
              "  </tbody>\n",
              "</table>\n",
              "</div>\n",
              "      <button class=\"colab-df-convert\" onclick=\"convertToInteractive('df-73b62f02-32a8-430e-aa51-d7024aa922f3')\"\n",
              "              title=\"Convert this dataframe to an interactive table.\"\n",
              "              style=\"display:none;\">\n",
              "        \n",
              "  <svg xmlns=\"http://www.w3.org/2000/svg\" height=\"24px\"viewBox=\"0 0 24 24\"\n",
              "       width=\"24px\">\n",
              "    <path d=\"M0 0h24v24H0V0z\" fill=\"none\"/>\n",
              "    <path d=\"M18.56 5.44l.94 2.06.94-2.06 2.06-.94-2.06-.94-.94-2.06-.94 2.06-2.06.94zm-11 1L8.5 8.5l.94-2.06 2.06-.94-2.06-.94L8.5 2.5l-.94 2.06-2.06.94zm10 10l.94 2.06.94-2.06 2.06-.94-2.06-.94-.94-2.06-.94 2.06-2.06.94z\"/><path d=\"M17.41 7.96l-1.37-1.37c-.4-.4-.92-.59-1.43-.59-.52 0-1.04.2-1.43.59L10.3 9.45l-7.72 7.72c-.78.78-.78 2.05 0 2.83L4 21.41c.39.39.9.59 1.41.59.51 0 1.02-.2 1.41-.59l7.78-7.78 2.81-2.81c.8-.78.8-2.07 0-2.86zM5.41 20L4 18.59l7.72-7.72 1.47 1.35L5.41 20z\"/>\n",
              "  </svg>\n",
              "      </button>\n",
              "      \n",
              "  <style>\n",
              "    .colab-df-container {\n",
              "      display:flex;\n",
              "      flex-wrap:wrap;\n",
              "      gap: 12px;\n",
              "    }\n",
              "\n",
              "    .colab-df-convert {\n",
              "      background-color: #E8F0FE;\n",
              "      border: none;\n",
              "      border-radius: 50%;\n",
              "      cursor: pointer;\n",
              "      display: none;\n",
              "      fill: #1967D2;\n",
              "      height: 32px;\n",
              "      padding: 0 0 0 0;\n",
              "      width: 32px;\n",
              "    }\n",
              "\n",
              "    .colab-df-convert:hover {\n",
              "      background-color: #E2EBFA;\n",
              "      box-shadow: 0px 1px 2px rgba(60, 64, 67, 0.3), 0px 1px 3px 1px rgba(60, 64, 67, 0.15);\n",
              "      fill: #174EA6;\n",
              "    }\n",
              "\n",
              "    [theme=dark] .colab-df-convert {\n",
              "      background-color: #3B4455;\n",
              "      fill: #D2E3FC;\n",
              "    }\n",
              "\n",
              "    [theme=dark] .colab-df-convert:hover {\n",
              "      background-color: #434B5C;\n",
              "      box-shadow: 0px 1px 3px 1px rgba(0, 0, 0, 0.15);\n",
              "      filter: drop-shadow(0px 1px 2px rgba(0, 0, 0, 0.3));\n",
              "      fill: #FFFFFF;\n",
              "    }\n",
              "  </style>\n",
              "\n",
              "      <script>\n",
              "        const buttonEl =\n",
              "          document.querySelector('#df-73b62f02-32a8-430e-aa51-d7024aa922f3 button.colab-df-convert');\n",
              "        buttonEl.style.display =\n",
              "          google.colab.kernel.accessAllowed ? 'block' : 'none';\n",
              "\n",
              "        async function convertToInteractive(key) {\n",
              "          const element = document.querySelector('#df-73b62f02-32a8-430e-aa51-d7024aa922f3');\n",
              "          const dataTable =\n",
              "            await google.colab.kernel.invokeFunction('convertToInteractive',\n",
              "                                                     [key], {});\n",
              "          if (!dataTable) return;\n",
              "\n",
              "          const docLinkHtml = 'Like what you see? Visit the ' +\n",
              "            '<a target=\"_blank\" href=https://colab.research.google.com/notebooks/data_table.ipynb>data table notebook</a>'\n",
              "            + ' to learn more about interactive tables.';\n",
              "          element.innerHTML = '';\n",
              "          dataTable['output_type'] = 'display_data';\n",
              "          await google.colab.output.renderOutput(dataTable, element);\n",
              "          const docLink = document.createElement('div');\n",
              "          docLink.innerHTML = docLinkHtml;\n",
              "          element.appendChild(docLink);\n",
              "        }\n",
              "      </script>\n",
              "    </div>\n",
              "  </div>\n",
              "  "
            ]
          },
          "metadata": {},
          "execution_count": 179
        }
      ]
    },
    {
      "cell_type": "markdown",
      "source": [
        "37.Save the above data frame as a csv file"
      ],
      "metadata": {
        "id": "FyH0JNclzVMm"
      }
    },
    {
      "cell_type": "code",
      "source": [
        "import pandas as pd\n",
        "n=(input(\"Enter 10 elements: \"))\n",
        "n=n.split(' ')\n",
        "if len(n)!=10:\n",
        "  print(\"Please Enter 10 Numbers\")\n",
        "else: \n",
        "  n=np.array(n)\n",
        "  nmat=n.reshape(2,5)\n",
        "nmat=pd.DataFrame(nmat)\n",
        "nmat.to_csv(\"df.csv\")"
      ],
      "metadata": {
        "colab": {
          "base_uri": "https://localhost:8080/"
        },
        "id": "RfnUJEJ4zVg2",
        "outputId": "cfe15bcc-6185-4205-fc74-ea9d26d61fdd"
      },
      "execution_count": null,
      "outputs": [
        {
          "name": "stdout",
          "output_type": "stream",
          "text": [
            "Enter 10 elements: 1 2 3 4 5 6 7 8 9 10\n"
          ]
        }
      ]
    },
    {
      "cell_type": "markdown",
      "source": [
        "38.Save the above data frame as an excel file"
      ],
      "metadata": {
        "id": "9YbNx0sR0mRm"
      }
    },
    {
      "cell_type": "code",
      "source": [
        "import pandas as pd\n",
        "n=(input(\"Enter 10 elements: \"))\n",
        "n=n.split(' ')\n",
        "if len(n)!=10:\n",
        "  print(\"Please Enter 10 Numbers\")\n",
        "else: \n",
        "  n=np.array(n)\n",
        "  nmat=n.reshape(2,5)\n",
        "nmat=pd.DataFrame(nmat)\n",
        "nmat.to_excel(\"df.xlsx\")"
      ],
      "metadata": {
        "colab": {
          "base_uri": "https://localhost:8080/"
        },
        "id": "NLpttVYV0miV",
        "outputId": "3719bf6a-13f3-4c97-f27d-daf9b6f3677f"
      },
      "execution_count": null,
      "outputs": [
        {
          "name": "stdout",
          "output_type": "stream",
          "text": [
            "Enter 10 elements: 1 2 3 4 5 6 7 8 9 10\n"
          ]
        }
      ]
    },
    {
      "cell_type": "markdown",
      "source": [
        "39.Replicate the same data in the excel file across multiple sheets with different names"
      ],
      "metadata": {
        "id": "uB_gK10k099a"
      }
    },
    {
      "cell_type": "code",
      "source": [
        "import pandas as pd\n",
        "n=(input(\"Enter 10 elements: \"))\n",
        "n=n.split(' ')\n",
        "if len(n)!=10:\n",
        "  print(\"Please Enter 10 Numbers\")\n",
        "else: \n",
        "  n=np.array(n)\n",
        "  nmat=n.reshape(2,5)\n",
        "nmat=pd.DataFrame(nmat)\n",
        "with pd.ExcelWriter('dfrep.xlsx') as dfrep:\n",
        "  nmat.to_excel(dfrep,'sheet1')\n",
        "  nmat.to_excel(dfrep,'sheet2')\n",
        "  nmat.to_excel(dfrep,'sheet3')\n",
        "  nmat.to_excel(dfrep,'sheet4')"
      ],
      "metadata": {
        "colab": {
          "base_uri": "https://localhost:8080/"
        },
        "id": "EJjPOjsv0-My",
        "outputId": "7da85974-71a3-4157-9e74-4a748e451f85"
      },
      "execution_count": null,
      "outputs": [
        {
          "name": "stdout",
          "output_type": "stream",
          "text": [
            "Enter 10 elements: 1 2 3 4 5 6 7 8 9 10\n"
          ]
        }
      ]
    },
    {
      "cell_type": "markdown",
      "source": [
        "41.print a picture using matplotlib."
      ],
      "metadata": {
        "id": "3-vXXKht2miH"
      }
    },
    {
      "cell_type": "code",
      "source": [
        "import matplotlib.image as img\n",
        "import matplotlib.pyplot as plt\n",
        "image=img.imread('rk.jpg.jpg')\n",
        "plt.imshow(image)"
      ],
      "metadata": {
        "colab": {
          "base_uri": "https://localhost:8080/",
          "height": 286
        },
        "id": "mo4t-fvr2m4N",
        "outputId": "377286f2-3615-44a1-bd1a-1c332125d4d3"
      },
      "execution_count": null,
      "outputs": [
        {
          "output_type": "execute_result",
          "data": {
            "text/plain": [
              "<matplotlib.image.AxesImage at 0x7f39406c9ad0>"
            ]
          },
          "metadata": {},
          "execution_count": 192
        },
        {
          "output_type": "display_data",
          "data": {
            "text/plain": [
              "<Figure size 432x288 with 1 Axes>"
            ],
            "image/png": "[encoded data removed]"
          },
          "metadata": {
            "needs_background": "light"
          }
        }
      ]
    },
    {
      "cell_type": "markdown",
      "source": [
        "42.Draw sin wave using matplotlib."
      ],
      "metadata": {
        "id": "svGkXwnT7YQ7"
      }
    },
    {
      "cell_type": "code",
      "source": [
        "import numpy as np\n",
        "import matplotlib.pyplot as plt\n",
        "\n",
        "data=np.arange(0,10,0.1)\n",
        "amp=np.sin(data)\n",
        "plt.plot(data,amp)"
      ],
      "metadata": {
        "colab": {
          "base_uri": "https://localhost:8080/",
          "height": 282
        },
        "id": "gel2nz7g7YhE",
        "outputId": "898e7a7e-c729-4e80-83c5-8ad7c3d00de1"
      },
      "execution_count": null,
      "outputs": [
        {
          "output_type": "execute_result",
          "data": {
            "text/plain": [
              "[<matplotlib.lines.Line2D at 0x7f3940125b90>]"
            ]
          },
          "metadata": {},
          "execution_count": 196
        },
        {
          "output_type": "display_data",
          "data": {
            "text/plain": [
              "<Figure size 432x288 with 1 Axes>"
            ],
            "image/png": "[encoded data removed]"
          },
          "metadata": {
            "needs_background": "light"
          }
        }
      ]
    },
    {
      "cell_type": "markdown",
      "source": [
        "43.Draw cos wave using matplotlib."
      ],
      "metadata": {
        "id": "CTxu4BUJ8NLf"
      }
    },
    {
      "cell_type": "code",
      "source": [
        "import numpy as np\n",
        "import matplotlib.pyplot as plt\n",
        "\n",
        "data=np.arange(0,10,0.1)\n",
        "amp=np.cos(data)\n",
        "plt.plot(data,amp)"
      ],
      "metadata": {
        "colab": {
          "base_uri": "https://localhost:8080/",
          "height": 282
        },
        "id": "fXbq1Z_w8Nct",
        "outputId": "b06b1b26-fe42-45ab-d342-f370554d74c5"
      },
      "execution_count": null,
      "outputs": [
        {
          "output_type": "execute_result",
          "data": {
            "text/plain": [
              "[<matplotlib.lines.Line2D at 0x7f394004da50>]"
            ]
          },
          "metadata": {},
          "execution_count": 197
        },
        {
          "output_type": "display_data",
          "data": {
            "text/plain": [
              "<Figure size 432x288 with 1 Axes>"
            ],
            "image/png": "[encoded data removed]"
          },
          "metadata": {
            "needs_background": "light"
          }
        }
      ]
    },
    {
      "cell_type": "markdown",
      "source": [
        "44.Draw step function using matplotlib\n"
      ],
      "metadata": {
        "id": "iHL01fQ_8Y_Q"
      }
    },
    {
      "cell_type": "code",
      "source": [
        "import matplotlib.pyplot as plt\n",
        "import numpy as np\n",
        "x=np.array([1,4,8,10,12])\n",
        "y=np.array([1,10,20,30,40])\n",
        "plt.step(x,y)\n",
        "plt.show()"
      ],
      "metadata": {
        "colab": {
          "base_uri": "https://localhost:8080/",
          "height": 265
        },
        "id": "PerIzxA48ZPA",
        "outputId": "ed30a1d1-19e8-4249-cc90-34fc5684ae16"
      },
      "execution_count": null,
      "outputs": [
        {
          "output_type": "display_data",
          "data": {
            "text/plain": [
              "<Figure size 432x288 with 1 Axes>"
            ],
            "image/png": "[encoded data removed]"
          },
          "metadata": {
            "needs_background": "light"
          }
        }
      ]
    },
    {
      "cell_type": "markdown",
      "source": [
        "50.Find the factorial of a number."
      ],
      "metadata": {
        "id": "ozwZ4RuT-0m1"
      }
    },
    {
      "cell_type": "code",
      "source": [
        "N=int(input(\"Enter a Number:\"))\n",
        "fact=1\n",
        "for i in range(1,N+1):\n",
        "  fact=fact*i\n",
        "print(\"Factorial of {} is {}\".format(N,count))\n"
      ],
      "metadata": {
        "colab": {
          "base_uri": "https://localhost:8080/"
        },
        "id": "WFwCAxOp-01_",
        "outputId": "d13caf72-e83b-47ff-8153-bb7f12ec2c0d"
      },
      "execution_count": null,
      "outputs": [
        {
          "output_type": "stream",
          "name": "stdout",
          "text": [
            "Enter a Number:5\n",
            "Factorial of 5 is 120\n"
          ]
        }
      ]
    },
    {
      "cell_type": "markdown",
      "source": [
        "49.Find out the parent directory of a directory."
      ],
      "metadata": {
        "id": "lYozAa8qByuz"
      }
    },
    {
      "cell_type": "code",
      "source": [
        "import os\n",
        "data=os.getcwd()\n",
        "parent=os.path.dirname(data)\n",
        "print(\"parent Directory of the Directory {} is {}\".format(data,parent))"
      ],
      "metadata": {
        "colab": {
          "base_uri": "https://localhost:8080/"
        },
        "id": "hIOqsVtZBzDK",
        "outputId": "f472a586-0fc1-4ff7-f2f0-48bc77c9382a"
      },
      "execution_count": null,
      "outputs": [
        {
          "output_type": "stream",
          "name": "stdout",
          "text": [
            "parent Directory of the Directory /content is /\n"
          ]
        }
      ]
    },
    {
      "cell_type": "markdown",
      "source": [
        "45.Draw fourier series using matplotlib"
      ],
      "metadata": {
        "id": "fpRpfy8bDX27"
      }
    },
    {
      "cell_type": "code",
      "source": [
        "import matplotlib.pyplot as plt\n",
        "\n",
        "from scipy.signal import square\n",
        "\n",
        "x=np.arange(-1,1,0.001)\n",
        "\n",
        "y=square(2*np.pi*x)\n",
        "\n",
        "plt.plot(x,y)\n",
        "\n",
        "plt.show()"
      ],
      "metadata": {
        "colab": {
          "base_uri": "https://localhost:8080/",
          "height": 265
        },
        "id": "vZGF7rZdDYD_",
        "outputId": "c11e431a-b236-459f-8a2f-dd0629041ae3"
      },
      "execution_count": null,
      "outputs": [
        {
          "output_type": "display_data",
          "data": {
            "text/plain": [
              "<Figure size 432x288 with 1 Axes>"
            ],
            "image/png": "[encoded data removed]"
          },
          "metadata": {
            "needs_background": "light"
          }
        }
      ]
    },
    {
      "cell_type": "markdown",
      "source": [
        "30.Given the name strings in a file, read all the names, convert them to corresponding ascii characters and calculate the sum\n"
      ],
      "metadata": {
        "id": "R2m1SB58E47r"
      }
    },
    {
      "cell_type": "code",
      "source": [
        "data=open(\"ascii.txt\")\n",
        "g=data.readlines()\n",
        "li={}\n",
        "lj={}\n",
        "str1=' '\n",
        "for i in range(0,len(g)):\n",
        "  g[i]=g[i].strip('\\n')\n",
        "for x in g:\n",
        "  z=list(x)\n",
        "  count=0\n",
        "  con=[]\n",
        "  for y in range(0,len(z)):\n",
        "    count+=ord(z[y])\n",
        "    con.append(ord(z[y]))\n",
        "  li[x]=count\n",
        "  lj[x]=con\n",
        "print(li)\n",
        "print(lj)\n"
      ],
      "metadata": {
        "colab": {
          "base_uri": "https://localhost:8080/"
        },
        "id": "V7vKh8BCE5V7",
        "outputId": "35fa38fb-ea13-4ac1-8e4a-0d01f4a24c06"
      },
      "execution_count": null,
      "outputs": [
        {
          "output_type": "stream",
          "name": "stdout",
          "text": [
            "{'Rahul': 508, 'Sagar': 494, 'Radha': 480, 'Krishna': 720}\n",
            "{'Rahul': [82, 97, 104, 117, 108], 'Sagar': [83, 97, 103, 97, 114], 'Radha': [82, 97, 100, 104, 97], 'Krishna': [75, 114, 105, 115, 104, 110, 97]}\n"
          ]
        }
      ]
    },
    {
      "cell_type": "markdown",
      "source": [
        "28.Given the names of countries - states in a json file, load the file , read the json objects and then print the cities against a country"
      ],
      "metadata": {
        "id": "URVzSLhAOdBY"
      }
    },
    {
      "cell_type": "code",
      "source": [
        "import json\n",
        "f=open('cost.json',\"r\")\n",
        "data=json.load(f)\n",
        "for i in data['World']:\n",
        "  print(i)"
      ],
      "metadata": {
        "colab": {
          "base_uri": "https://localhost:8080/"
        },
        "id": "kptY_oUROdVq",
        "outputId": "89f0b3cb-57fc-4077-b479-54a288ea0acf"
      },
      "execution_count": 274,
      "outputs": [
        {
          "output_type": "stream",
          "name": "stdout",
          "text": [
            "{'Country': 'Canada', 'states': ['British Columbia', 'Ontario', 'Manitoba', 'Quebec']}\n",
            "{'Country': 'India', 'States': ['Karnataka', 'Maharashtra', 'Utarpradesh']}\n"
          ]
        }
      ]
    },
    {
      "cell_type": "markdown",
      "source": [
        "29.Given the name strings in a file, read all the names and one-hot encod all the names and find the total sum"
      ],
      "metadata": {
        "id": "0uRhJOmiJlx_"
      }
    },
    {
      "cell_type": "code",
      "source": [
        "data=open(\"ascii.txt\")\n",
        "import pandas as pd\n",
        "g=data.readlines()\n",
        "for i in range(0,len(g)):\n",
        "  g[i]=g[i].strip('\\n')\n",
        "dat=pd.get_dummies(g)\n",
        "dat=pd.DataFrame(dat)\n",
        "print(dat)\n",
        "print(\"sum = {} \".format(np.sum(dat['Krishna']+dat['Radha']+dat['Rahul']+dat['Sagar'])))"
      ],
      "metadata": {
        "colab": {
          "base_uri": "https://localhost:8080/"
        },
        "id": "bKFQu89gJmTz",
        "outputId": "7bb63a01-f237-4bbf-b6e6-da22ec8dd49b"
      },
      "execution_count": 263,
      "outputs": [
        {
          "output_type": "stream",
          "name": "stdout",
          "text": [
            "   Krishna  Radha  Rahul  Sagar\n",
            "0        0      0      1      0\n",
            "1        0      0      0      1\n",
            "2        0      1      0      0\n",
            "3        1      0      0      0\n",
            "sum = 4 \n"
          ]
        }
      ]
    },
    {
      "cell_type": "markdown",
      "source": [
        "48.Read all the files in a directory and print them."
      ],
      "metadata": {
        "id": "JYSldnMBCjpM"
      }
    },
    {
      "cell_type": "code",
      "source": [
        "import os\n",
        "data=os.getcwd()\n",
        "parent=os.listdir(data)\n",
        "print(\"Files of the Directory {} is {}\".format(data,parent))"
      ],
      "metadata": {
        "colab": {
          "base_uri": "https://localhost:8080/"
        },
        "id": "eCnGOWMtCkB1",
        "outputId": "6556bb03-7d40-4ae3-d106-3b072d56a678"
      },
      "execution_count": null,
      "outputs": [
        {
          "output_type": "stream",
          "name": "stdout",
          "text": [
            "Files of the Directory /content is ['.config', 'dfrep.xlsx', 'Names.txt', 'Df.csv', 'df.xlsx', 'rk.jpg.jpg', 'zipping.zip', 'Ng.csv', 'df.csv', '__pycache__', 'strnum.txt', 'sample.py', 'url.txt', 'Marks.txt', 'sample_data']\n"
          ]
        }
      ]
    },
    {
      "cell_type": "markdown",
      "source": [
        "47.Find all the headings in the data in a file"
      ],
      "metadata": {
        "id": "zj9ZmM73QfEd"
      }
    },
    {
      "cell_type": "code",
      "source": [
        "f=pd.read_csv(\"Ng.csv\")\n",
        "print(list(f.columns))"
      ],
      "metadata": {
        "colab": {
          "base_uri": "https://localhost:8080/"
        },
        "id": "ujHZbc2JQfWI",
        "outputId": "670eef98-2c84-49cd-f06a-95046c3f4455"
      },
      "execution_count": 289,
      "outputs": [
        {
          "output_type": "stream",
          "name": "stdout",
          "text": [
            "['Name', 'Gender']\n"
          ]
        }
      ]
    },
    {
      "cell_type": "markdown",
      "source": [
        "46.Find all the urls in a data in a file"
      ],
      "metadata": {
        "id": "hHugnpN0Sa9x"
      }
    },
    {
      "cell_type": "code",
      "source": [
        "import re\n",
        "f=open(\"url.txt\")\n",
        "for i in f:\n",
        "  url=re.findall('https?://www.\\w+.\\w+\\D',i)\n",
        "  print(url)"
      ],
      "metadata": {
        "colab": {
          "base_uri": "https://localhost:8080/"
        },
        "id": "28IOYMYoSbRS",
        "outputId": "61325dd5-c5c2-43b6-c16c-8fd2d071214a"
      },
      "execution_count": 45,
      "outputs": [
        {
          "output_type": "stream",
          "name": "stdout",
          "text": [
            "['https://www.xyz.com ', 'https://www.abc.com\\n']\n",
            "['https://www.abcxyz.io ']\n",
            "['http://www.rs.com']\n"
          ]
        }
      ]
    },
    {
      "cell_type": "markdown",
      "source": [
        "40.Create an excel sheet in google-sheets, read it via python and print the data on screen."
      ],
      "metadata": {
        "id": "9z-LSQw9ojRQ"
      }
    },
    {
      "cell_type": "code",
      "source": [
        "import pandas as pd\n",
        "sheetid='17pU5u7_aOEyO2o9kMv9K-XC4KAroWe8dVfVbl6rfurI'\n",
        "sheetname='Sheet1'\n",
        "gsheet_url=\"https://docs.google.com/spreadsheets/d/{}/gviz/tq?tqx=out:csv&sheet={}\".format(sheetid,sheetname)\n",
        "df=pd.read_csv(gsheet_url)\n",
        "df"
      ],
      "metadata": {
        "colab": {
          "base_uri": "https://localhost:8080/",
          "height": 238
        },
        "id": "bGFzq36jojit",
        "outputId": "3a68322b-6962-470b-c0b2-223e601dfeea"
      },
      "execution_count": 48,
      "outputs": [
        {
          "output_type": "execute_result",
          "data": {
            "text/plain": [
              "       Name  Gender\n",
              "0     Radha  Female\n",
              "1   Krishna    Male\n",
              "2     Sagar    Male\n",
              "3     Rahul    Male\n",
              "4     Shiva    Male\n",
              "5  Parvathi  Female"
            ],
            "text/html": [
              "\n",
              "  <div id=\"df-cbe06f34-5309-404f-ab31-309f912bed9b\">\n",
              "    <div class=\"colab-df-container\">\n",
              "      <div>\n",
              "<style scoped>\n",
              "    .dataframe tbody tr th:only-of-type {\n",
              "        vertical-align: middle;\n",
              "    }\n",
              "\n",
              "    .dataframe tbody tr th {\n",
              "        vertical-align: top;\n",
              "    }\n",
              "\n",
              "    .dataframe thead th {\n",
              "        text-align: right;\n",
              "    }\n",
              "</style>\n",
              "<table border=\"1\" class=\"dataframe\">\n",
              "  <thead>\n",
              "    <tr style=\"text-align: right;\">\n",
              "      <th></th>\n",
              "      <th>Name</th>\n",
              "      <th>Gender</th>\n",
              "    </tr>\n",
              "  </thead>\n",
              "  <tbody>\n",
              "    <tr>\n",
              "      <th>0</th>\n",
              "      <td>Radha</td>\n",
              "      <td>Female</td>\n",
              "    </tr>\n",
              "    <tr>\n",
              "      <th>1</th>\n",
              "      <td>Krishna</td>\n",
              "      <td>Male</td>\n",
              "    </tr>\n",
              "    <tr>\n",
              "      <th>2</th>\n",
              "      <td>Sagar</td>\n",
              "      <td>Male</td>\n",
              "    </tr>\n",
              "    <tr>\n",
              "      <th>3</th>\n",
              "      <td>Rahul</td>\n",
              "      <td>Male</td>\n",
              "    </tr>\n",
              "    <tr>\n",
              "      <th>4</th>\n",
              "      <td>Shiva</td>\n",
              "      <td>Male</td>\n",
              "    </tr>\n",
              "    <tr>\n",
              "      <th>5</th>\n",
              "      <td>Parvathi</td>\n",
              "      <td>Female</td>\n",
              "    </tr>\n",
              "  </tbody>\n",
              "</table>\n",
              "</div>\n",
              "      <button class=\"colab-df-convert\" onclick=\"convertToInteractive('df-cbe06f34-5309-404f-ab31-309f912bed9b')\"\n",
              "              title=\"Convert this dataframe to an interactive table.\"\n",
              "              style=\"display:none;\">\n",
              "        \n",
              "  <svg xmlns=\"http://www.w3.org/2000/svg\" height=\"24px\"viewBox=\"0 0 24 24\"\n",
              "       width=\"24px\">\n",
              "    <path d=\"M0 0h24v24H0V0z\" fill=\"none\"/>\n",
              "    <path d=\"M18.56 5.44l.94 2.06.94-2.06 2.06-.94-2.06-.94-.94-2.06-.94 2.06-2.06.94zm-11 1L8.5 8.5l.94-2.06 2.06-.94-2.06-.94L8.5 2.5l-.94 2.06-2.06.94zm10 10l.94 2.06.94-2.06 2.06-.94-2.06-.94-.94-2.06-.94 2.06-2.06.94z\"/><path d=\"M17.41 7.96l-1.37-1.37c-.4-.4-.92-.59-1.43-.59-.52 0-1.04.2-1.43.59L10.3 9.45l-7.72 7.72c-.78.78-.78 2.05 0 2.83L4 21.41c.39.39.9.59 1.41.59.51 0 1.02-.2 1.41-.59l7.78-7.78 2.81-2.81c.8-.78.8-2.07 0-2.86zM5.41 20L4 18.59l7.72-7.72 1.47 1.35L5.41 20z\"/>\n",
              "  </svg>\n",
              "      </button>\n",
              "      \n",
              "  <style>\n",
              "    .colab-df-container {\n",
              "      display:flex;\n",
              "      flex-wrap:wrap;\n",
              "      gap: 12px;\n",
              "    }\n",
              "\n",
              "    .colab-df-convert {\n",
              "      background-color: #E8F0FE;\n",
              "      border: none;\n",
              "      border-radius: 50%;\n",
              "      cursor: pointer;\n",
              "      display: none;\n",
              "      fill: #1967D2;\n",
              "      height: 32px;\n",
              "      padding: 0 0 0 0;\n",
              "      width: 32px;\n",
              "    }\n",
              "\n",
              "    .colab-df-convert:hover {\n",
              "      background-color: #E2EBFA;\n",
              "      box-shadow: 0px 1px 2px rgba(60, 64, 67, 0.3), 0px 1px 3px 1px rgba(60, 64, 67, 0.15);\n",
              "      fill: #174EA6;\n",
              "    }\n",
              "\n",
              "    [theme=dark] .colab-df-convert {\n",
              "      background-color: #3B4455;\n",
              "      fill: #D2E3FC;\n",
              "    }\n",
              "\n",
              "    [theme=dark] .colab-df-convert:hover {\n",
              "      background-color: #434B5C;\n",
              "      box-shadow: 0px 1px 3px 1px rgba(0, 0, 0, 0.15);\n",
              "      filter: drop-shadow(0px 1px 2px rgba(0, 0, 0, 0.3));\n",
              "      fill: #FFFFFF;\n",
              "    }\n",
              "  </style>\n",
              "\n",
              "      <script>\n",
              "        const buttonEl =\n",
              "          document.querySelector('#df-cbe06f34-5309-404f-ab31-309f912bed9b button.colab-df-convert');\n",
              "        buttonEl.style.display =\n",
              "          google.colab.kernel.accessAllowed ? 'block' : 'none';\n",
              "\n",
              "        async function convertToInteractive(key) {\n",
              "          const element = document.querySelector('#df-cbe06f34-5309-404f-ab31-309f912bed9b');\n",
              "          const dataTable =\n",
              "            await google.colab.kernel.invokeFunction('convertToInteractive',\n",
              "                                                     [key], {});\n",
              "          if (!dataTable) return;\n",
              "\n",
              "          const docLinkHtml = 'Like what you see? Visit the ' +\n",
              "            '<a target=\"_blank\" href=https://colab.research.google.com/notebooks/data_table.ipynb>data table notebook</a>'\n",
              "            + ' to learn more about interactive tables.';\n",
              "          element.innerHTML = '';\n",
              "          dataTable['output_type'] = 'display_data';\n",
              "          await google.colab.output.renderOutput(dataTable, element);\n",
              "          const docLink = document.createElement('div');\n",
              "          docLink.innerHTML = docLinkHtml;\n",
              "          element.appendChild(docLink);\n",
              "        }\n",
              "      </script>\n",
              "    </div>\n",
              "  </div>\n",
              "  "
            ]
          },
          "metadata": {},
          "execution_count": 48
        }
      ]
    },
    {
      "cell_type": "code",
      "source": [],
      "metadata": {
        "id": "xBu6SC0YsFxc"
      },
      "execution_count": null,
      "outputs": []
    }
  ]
}