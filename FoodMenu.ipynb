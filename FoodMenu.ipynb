{
  "nbformat": 4,
  "nbformat_minor": 0,
  "metadata": {
    "colab": {
      "provenance": []
    },
    "kernelspec": {
      "name": "python3",
      "display_name": "Python 3"
    },
    "language_info": {
      "name": "python"
    }
  },
  "cells": [
    {
      "cell_type": "code",
      "execution_count": 12,
      "metadata": {
        "colab": {
          "base_uri": "https://localhost:8080/"
        },
        "id": "pGUThXYypt4u",
        "outputId": "89919ad9-eae8-41a2-df9a-de9ca0b33e12"
      },
      "outputs": [
        {
          "output_type": "stream",
          "name": "stdout",
          "text": [
            "Welcome to the World of Icecream\n",
            "{1: 'ChocolateTruffle', 2: 'RumJamaica', 3: 'ButterscotchCrunch', 4: 'BlackcurrentPremium', 5: 'MangoMania', 6: 'Kaju_Gulkhan'}\n",
            "Please Select an option from the list 1\n",
            "You Selected ChocolateTruffle, Enjoy your IceCream!\n"
          ]
        }
      ],
      "source": [
        "print(\"Welcome to the World of Icecream\")\n",
        "Menu={1:\"ChocolateTruffle\",2:\"RumJamaica\", 3:\"ButterscotchCrunch\",4:\"BlackcurrentPremium\",5:\"MangoMania\",6:\"Kaju_Gulkhan\"}\n",
        "print(Menu)\n",
        "N=int(input(\"Please Select an option from the list \"))\n",
        "for i in Menu:\n",
        "    if(N==i):\n",
        "      print(\"You Selected {}, Enjoy your IceCream!\".format(Menu[i]))\n",
        "    elif N not in Menu:  \n",
        "      print(\"Wrong Input Selected!!!\")\n",
        "      break\n",
        "    \n"
      ]
    }
  ]
}