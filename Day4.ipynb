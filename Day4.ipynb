{
  "nbformat": 4,
  "nbformat_minor": 0,
  "metadata": {
    "colab": {
      "provenance": []
    },
    "kernelspec": {
      "name": "python3",
      "display_name": "Python 3"
    },
    "language_info": {
      "name": "python"
    }
  },
  "cells": [
    {
      "cell_type": "code",
      "execution_count": 27,
      "metadata": {
        "colab": {
          "base_uri": "https://localhost:8080/"
        },
        "id": "Dy_s8PpXygU7",
        "outputId": "f1c44560-d90b-4348-cbfa-49e744791155"
      },
      "outputs": [
        {
          "output_type": "stream",
          "name": "stdout",
          "text": [
            "Loan EMI Calculator\n",
            "Enter Principle Amount: 100\n",
            "Enter Rate of Interest: 10\n",
            "Enter Tenure in Months: 12\n",
            "Your EMI is 9\n"
          ]
        }
      ],
      "source": [
        "print(\"Loan EMI Calculator\")\n",
        "P=float(input(\"Enter Principle Amount: \"))\n",
        "R=float(input(\"Enter Rate of Interest: \"))\n",
        "R=R/(12*100)\n",
        "N=int(input(\"Enter Tenure in Months: \"))\n",
        "loan=round(P*R*((1+R)**N)/(((1+R)**N)-1))\n",
        "print(\"Your EMI is {}\".format(loan))"
      ]
    },
    {
      "cell_type": "code",
      "source": [
        "print(\"Welcome to Jio Bank\")\n",
        "Bank={1:\"Add_Account\",2:\"Add_Money\",3:\"Withdraw_Money\",4:\"Show_Balance\"}\n",
        "print(Bank)\n",
        "N=int(input(\"Enter a Transaction from the above options: \"))\n",
        "import random\n",
        "if(N==1):\n",
        "  temp1=0\n",
        "  i=random.randint(1000,9999)   \n",
        "  if i not in transaction.keys():   \n",
        "    temp1=i+1\n",
        "    transaction[temp1]=0\n",
        "    print(\"New Account Created, Your Account number is {} \".format(temp1))\n",
        "  else:print(\"ServerError!We will get Back,Sorry\")\n",
        "  \n",
        "elif(N==2):\n",
        "  Acc=int(input(\"Enter your Account Number \"))\n",
        "  Money=int(input(\"Enter the amount to be credited \"))\n",
        "  if Acc in transaction.keys():\n",
        "    transaction[Acc]=transaction[Acc]+Money\n",
        "    print(\"Amount Succesfully Credited :)\")\n",
        "  else:print(\"Invalid Acc Number,Create New Account\")    \n",
        "\n",
        "elif(N==3):\n",
        "  Acc1=int(input(\"Enter your Account Number \"))\n",
        "  Money1=int(input(\"Enter the amount to be debited \"))\n",
        "  if Acc1 in transaction.keys():\n",
        "    if(Money1<transaction[Acc1]):\n",
        "      transaction[Acc1]=transaction[Acc1]-Money1\n",
        "      print(\"Amount Debited, Please Collect Cash\")\n",
        "    else:print(\"Insufficient Balance :(\")\n",
        "  else:print(\"Invalid Acc Number,Create New Account\") \n",
        "\n",
        "elif(N==4):\n",
        "  Acc2=int(input(\"Enter your Account Number \"))\n",
        "  if Acc2 in transaction.keys():\n",
        "    print(\"Your Account Balance is Rs.{}/-\".format(transaction[Acc2]))\n",
        "  else:print(\"Invalid Acc Number,Create New Account\") \n",
        "else:print(\"Invalid Option Selected!\")  \n",
        "\n"
      ],
      "metadata": {
        "colab": {
          "base_uri": "https://localhost:8080/"
        },
        "id": "RdNYTtFz5IRB",
        "outputId": "b29a53ad-65c8-4ac6-8de3-e1c060dc88bf"
      },
      "execution_count": 38,
      "outputs": [
        {
          "output_type": "stream",
          "name": "stdout",
          "text": [
            "Welcome to Jio Bank\n",
            "{1: 'Add_Account', 2: 'Add_Money', 3: 'Withdraw_Money', 4: 'Show_Balance'}\n",
            "Enter a Transaction from the above options: 4\n",
            "Enter your Account Number 0\n",
            "Your Account Balance is Rs.100/-\n"
          ]
        }
      ]
    }
  ]
}